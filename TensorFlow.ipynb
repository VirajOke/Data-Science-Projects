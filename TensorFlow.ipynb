{
  "nbformat": 4,
  "nbformat_minor": 0,
  "metadata": {
    "colab": {
      "name": "TensorFlow.ipynb",
      "provenance": []
    },
    "kernelspec": {
      "name": "python3",
      "display_name": "Python 3"
    },
    "language_info": {
      "name": "python"
    }
  },
  "cells": [
    {
      "cell_type": "code",
      "execution_count": null,
      "metadata": {
        "id": "z9zQKrXtTmdo"
      },
      "outputs": [],
      "source": [
        "import tensorflow as tf\n",
        "import tensorflow_hub as hub\n",
        "\n",
        "tfhub_handle_preprocess = 'https://tfhub.dev/tensorflow/bert_en_uncased_preprocess/3'\n",
        "tfhub_handle_encoder = 'https://tfhub.dev/tensorflow/small_bert/bert_en_uncased_L-4_H-512_A-8/1'\n",
        "\n",
        "def build_classifier_model(name):\n",
        "    text_input = tf.keras.layers.Input(shape=(), dtype=tf.string, name='features')    \n",
        "    bert_preprocess_model = hub.KerasLayer(tfhub_handle_preprocess, name='preprocessing')\n",
        "    encoder_inputs = bert_preprocess_model(text_input)\n",
        "    encoder = hub.KerasLayer(tfhub_handle_encoder) \n",
        "    outputs = encoder(encoder_inputs)\n",
        "    net = outputs[name]\n",
        "    return tf.keras.Model(text_input, net)\n",
        "\n",
        "sentence = tf.constant([\n",
        "\"Improve the physical fitness of your goldfish by getting him a bicycle\"\n",
        "])\n",
        "\n",
        "classifier_model = build_classifier_model(name='default')\n",
        "default_output = classifier_model(sentence)\n",
        "\n",
        "classifier_model = build_classifier_model(name='pooled_output')\n",
        "pooled_output = classifier_model(sentence)\n",
        "\n",
        "print(default_output == pooled_output)"
      ]
    }
  ]
}