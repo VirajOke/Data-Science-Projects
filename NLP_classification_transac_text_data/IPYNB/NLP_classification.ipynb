{
  "nbformat": 4,
  "nbformat_minor": 0,
  "metadata": {
    "colab": {
      "name": "NLP_assign_2.ipynb",
      "provenance": [],
      "collapsed_sections": []
    },
    "kernelspec": {
      "name": "python3",
      "display_name": "Python 3"
    },
    "language_info": {
      "name": "python"
    }
  },
  "cells": [
    {
      "cell_type": "code",
      "execution_count": 93,
      "metadata": {
        "id": "paOJn97Z7Iw_"
      },
      "outputs": [],
      "source": [
        "import pandas as pd\n",
        "import numpy as np\n",
        "import nltk\n",
        "import re\n",
        "from sklearn.preprocessing import LabelEncoder\n",
        "from sklearn.feature_extraction.text import CountVectorizer\n",
        "from sklearn.feature_extraction.text import TfidfVectorizer\n",
        "from sklearn.manifold import TSNE\n",
        "from sklearn.neighbors import KNeighborsClassifier\n",
        "from sklearn import svm\n",
        "from sklearn.tree import DecisionTreeClassifier\n",
        "from sklearn.ensemble import BaggingClassifier\n",
        "from sklearn.ensemble import AdaBoostClassifier\n",
        "from sklearn.model_selection import train_test_split\n",
        "from sklearn.metrics import accuracy_score\n",
        "from sklearn.metrics import confusion_matrix\n",
        "import matplotlib.pyplot as plt\n",
        "from sklearn import metrics "
      ]
    },
    {
      "cell_type": "code",
      "source": [
        "from google.colab import drive\n",
        "drive.mount('/content/drive')"
      ],
      "metadata": {
        "colab": {
          "base_uri": "https://localhost:8080/"
        },
        "id": "2yUsKyg9z4RE",
        "outputId": "cd1d5c1b-092d-4d3f-bbfa-a038debc0eea"
      },
      "execution_count": 3,
      "outputs": [
        {
          "output_type": "stream",
          "name": "stdout",
          "text": [
            "Drive already mounted at /content/drive; to attempt to forcibly remount, call drive.mount(\"/content/drive\", force_remount=True).\n"
          ]
        }
      ]
    },
    {
      "cell_type": "code",
      "source": [
        "%cd /content/drive/MyDrive/Colab Notebooks/NLP assignment 2/TRAIN"
      ],
      "metadata": {
        "colab": {
          "base_uri": "https://localhost:8080/"
        },
        "id": "12pLAmYq9nJv",
        "outputId": "a77cdbdb-adcc-48cf-9788-e9b96d617e45"
      },
      "execution_count": 4,
      "outputs": [
        {
          "output_type": "stream",
          "name": "stdout",
          "text": [
            "/content/drive/MyDrive/Colab Notebooks/NLP assignment 2/TRAIN\n"
          ]
        }
      ]
    },
    {
      "cell_type": "code",
      "source": [
        "df= pd.read_csv(\"/content/drive/MyDrive/Colab Notebooks/NLP assignment 2/TRAIN/labeled_10k.csv\")"
      ],
      "metadata": {
        "id": "0u96kOaT-IDV"
      },
      "execution_count": 5,
      "outputs": []
    },
    {
      "cell_type": "code",
      "source": [
        "df.head()"
      ],
      "metadata": {
        "colab": {
          "base_uri": "https://localhost:8080/",
          "height": 337
        },
        "id": "6CGrH3_wCS90",
        "outputId": "4229a754-7572-47f3-f815-d4cf3444f0f7"
      },
      "execution_count": 6,
      "outputs": [
        {
          "output_type": "execute_result",
          "data": {
            "text/plain": [
              "    hmid                                             moment          concepts  \\\n",
              "0  27674  I was happy when my son got 90% marks in his e...  education|family   \n",
              "1  27685          went to movies with my friends it was fun     entertainment   \n",
              "2  27691  A hot kiss with my girl friend last night made...           romance   \n",
              "3  27701  My son woke me up to a fantastic breakfast of ...       family|food   \n",
              "4  27712  My older daughter keeps patting my younger dau...            family   \n",
              "\n",
              "  agency social   age country gender  married parenthood reflection  \\\n",
              "0     no    yes  29.0     IND      m  married          y        24h   \n",
              "1    yes    yes  29.0     IND      m   single          y        24h   \n",
              "2    yes    yes  25.0     IND      m  married          y        24h   \n",
              "3     no    yes    79     USA      f  widowed          y        24h   \n",
              "4     no    yes    30     USA      f  married          y        24h   \n",
              "\n",
              "                      duration  \n",
              "0                   half_a_day  \n",
              "1                   half_a_day  \n",
              "2            at_least_one_hour  \n",
              "3  all_day_im_still_feeling_it  \n",
              "4                 a_few_moment  "
            ],
            "text/html": [
              "\n",
              "  <div id=\"df-0b227bfc-c881-4f5a-a3f7-fddf6b66aeca\">\n",
              "    <div class=\"colab-df-container\">\n",
              "      <div>\n",
              "<style scoped>\n",
              "    .dataframe tbody tr th:only-of-type {\n",
              "        vertical-align: middle;\n",
              "    }\n",
              "\n",
              "    .dataframe tbody tr th {\n",
              "        vertical-align: top;\n",
              "    }\n",
              "\n",
              "    .dataframe thead th {\n",
              "        text-align: right;\n",
              "    }\n",
              "</style>\n",
              "<table border=\"1\" class=\"dataframe\">\n",
              "  <thead>\n",
              "    <tr style=\"text-align: right;\">\n",
              "      <th></th>\n",
              "      <th>hmid</th>\n",
              "      <th>moment</th>\n",
              "      <th>concepts</th>\n",
              "      <th>agency</th>\n",
              "      <th>social</th>\n",
              "      <th>age</th>\n",
              "      <th>country</th>\n",
              "      <th>gender</th>\n",
              "      <th>married</th>\n",
              "      <th>parenthood</th>\n",
              "      <th>reflection</th>\n",
              "      <th>duration</th>\n",
              "    </tr>\n",
              "  </thead>\n",
              "  <tbody>\n",
              "    <tr>\n",
              "      <th>0</th>\n",
              "      <td>27674</td>\n",
              "      <td>I was happy when my son got 90% marks in his e...</td>\n",
              "      <td>education|family</td>\n",
              "      <td>no</td>\n",
              "      <td>yes</td>\n",
              "      <td>29.0</td>\n",
              "      <td>IND</td>\n",
              "      <td>m</td>\n",
              "      <td>married</td>\n",
              "      <td>y</td>\n",
              "      <td>24h</td>\n",
              "      <td>half_a_day</td>\n",
              "    </tr>\n",
              "    <tr>\n",
              "      <th>1</th>\n",
              "      <td>27685</td>\n",
              "      <td>went to movies with my friends it was fun</td>\n",
              "      <td>entertainment</td>\n",
              "      <td>yes</td>\n",
              "      <td>yes</td>\n",
              "      <td>29.0</td>\n",
              "      <td>IND</td>\n",
              "      <td>m</td>\n",
              "      <td>single</td>\n",
              "      <td>y</td>\n",
              "      <td>24h</td>\n",
              "      <td>half_a_day</td>\n",
              "    </tr>\n",
              "    <tr>\n",
              "      <th>2</th>\n",
              "      <td>27691</td>\n",
              "      <td>A hot kiss with my girl friend last night made...</td>\n",
              "      <td>romance</td>\n",
              "      <td>yes</td>\n",
              "      <td>yes</td>\n",
              "      <td>25.0</td>\n",
              "      <td>IND</td>\n",
              "      <td>m</td>\n",
              "      <td>married</td>\n",
              "      <td>y</td>\n",
              "      <td>24h</td>\n",
              "      <td>at_least_one_hour</td>\n",
              "    </tr>\n",
              "    <tr>\n",
              "      <th>3</th>\n",
              "      <td>27701</td>\n",
              "      <td>My son woke me up to a fantastic breakfast of ...</td>\n",
              "      <td>family|food</td>\n",
              "      <td>no</td>\n",
              "      <td>yes</td>\n",
              "      <td>79</td>\n",
              "      <td>USA</td>\n",
              "      <td>f</td>\n",
              "      <td>widowed</td>\n",
              "      <td>y</td>\n",
              "      <td>24h</td>\n",
              "      <td>all_day_im_still_feeling_it</td>\n",
              "    </tr>\n",
              "    <tr>\n",
              "      <th>4</th>\n",
              "      <td>27712</td>\n",
              "      <td>My older daughter keeps patting my younger dau...</td>\n",
              "      <td>family</td>\n",
              "      <td>no</td>\n",
              "      <td>yes</td>\n",
              "      <td>30</td>\n",
              "      <td>USA</td>\n",
              "      <td>f</td>\n",
              "      <td>married</td>\n",
              "      <td>y</td>\n",
              "      <td>24h</td>\n",
              "      <td>a_few_moment</td>\n",
              "    </tr>\n",
              "  </tbody>\n",
              "</table>\n",
              "</div>\n",
              "      <button class=\"colab-df-convert\" onclick=\"convertToInteractive('df-0b227bfc-c881-4f5a-a3f7-fddf6b66aeca')\"\n",
              "              title=\"Convert this dataframe to an interactive table.\"\n",
              "              style=\"display:none;\">\n",
              "        \n",
              "  <svg xmlns=\"http://www.w3.org/2000/svg\" height=\"24px\"viewBox=\"0 0 24 24\"\n",
              "       width=\"24px\">\n",
              "    <path d=\"M0 0h24v24H0V0z\" fill=\"none\"/>\n",
              "    <path d=\"M18.56 5.44l.94 2.06.94-2.06 2.06-.94-2.06-.94-.94-2.06-.94 2.06-2.06.94zm-11 1L8.5 8.5l.94-2.06 2.06-.94-2.06-.94L8.5 2.5l-.94 2.06-2.06.94zm10 10l.94 2.06.94-2.06 2.06-.94-2.06-.94-.94-2.06-.94 2.06-2.06.94z\"/><path d=\"M17.41 7.96l-1.37-1.37c-.4-.4-.92-.59-1.43-.59-.52 0-1.04.2-1.43.59L10.3 9.45l-7.72 7.72c-.78.78-.78 2.05 0 2.83L4 21.41c.39.39.9.59 1.41.59.51 0 1.02-.2 1.41-.59l7.78-7.78 2.81-2.81c.8-.78.8-2.07 0-2.86zM5.41 20L4 18.59l7.72-7.72 1.47 1.35L5.41 20z\"/>\n",
              "  </svg>\n",
              "      </button>\n",
              "      \n",
              "  <style>\n",
              "    .colab-df-container {\n",
              "      display:flex;\n",
              "      flex-wrap:wrap;\n",
              "      gap: 12px;\n",
              "    }\n",
              "\n",
              "    .colab-df-convert {\n",
              "      background-color: #E8F0FE;\n",
              "      border: none;\n",
              "      border-radius: 50%;\n",
              "      cursor: pointer;\n",
              "      display: none;\n",
              "      fill: #1967D2;\n",
              "      height: 32px;\n",
              "      padding: 0 0 0 0;\n",
              "      width: 32px;\n",
              "    }\n",
              "\n",
              "    .colab-df-convert:hover {\n",
              "      background-color: #E2EBFA;\n",
              "      box-shadow: 0px 1px 2px rgba(60, 64, 67, 0.3), 0px 1px 3px 1px rgba(60, 64, 67, 0.15);\n",
              "      fill: #174EA6;\n",
              "    }\n",
              "\n",
              "    [theme=dark] .colab-df-convert {\n",
              "      background-color: #3B4455;\n",
              "      fill: #D2E3FC;\n",
              "    }\n",
              "\n",
              "    [theme=dark] .colab-df-convert:hover {\n",
              "      background-color: #434B5C;\n",
              "      box-shadow: 0px 1px 3px 1px rgba(0, 0, 0, 0.15);\n",
              "      filter: drop-shadow(0px 1px 2px rgba(0, 0, 0, 0.3));\n",
              "      fill: #FFFFFF;\n",
              "    }\n",
              "  </style>\n",
              "\n",
              "      <script>\n",
              "        const buttonEl =\n",
              "          document.querySelector('#df-0b227bfc-c881-4f5a-a3f7-fddf6b66aeca button.colab-df-convert');\n",
              "        buttonEl.style.display =\n",
              "          google.colab.kernel.accessAllowed ? 'block' : 'none';\n",
              "\n",
              "        async function convertToInteractive(key) {\n",
              "          const element = document.querySelector('#df-0b227bfc-c881-4f5a-a3f7-fddf6b66aeca');\n",
              "          const dataTable =\n",
              "            await google.colab.kernel.invokeFunction('convertToInteractive',\n",
              "                                                     [key], {});\n",
              "          if (!dataTable) return;\n",
              "\n",
              "          const docLinkHtml = 'Like what you see? Visit the ' +\n",
              "            '<a target=\"_blank\" href=https://colab.research.google.com/notebooks/data_table.ipynb>data table notebook</a>'\n",
              "            + ' to learn more about interactive tables.';\n",
              "          element.innerHTML = '';\n",
              "          dataTable['output_type'] = 'display_data';\n",
              "          await google.colab.output.renderOutput(dataTable, element);\n",
              "          const docLink = document.createElement('div');\n",
              "          docLink.innerHTML = docLinkHtml;\n",
              "          element.appendChild(docLink);\n",
              "        }\n",
              "      </script>\n",
              "    </div>\n",
              "  </div>\n",
              "  "
            ]
          },
          "metadata": {},
          "execution_count": 6
        }
      ]
    },
    {
      "cell_type": "code",
      "source": [
        "df.info()"
      ],
      "metadata": {
        "colab": {
          "base_uri": "https://localhost:8080/"
        },
        "id": "j_5zYHDhECAs",
        "outputId": "8926ce9f-80e2-4d93-9ff8-281aaefc156a"
      },
      "execution_count": 7,
      "outputs": [
        {
          "output_type": "stream",
          "name": "stdout",
          "text": [
            "<class 'pandas.core.frame.DataFrame'>\n",
            "RangeIndex: 10560 entries, 0 to 10559\n",
            "Data columns (total 12 columns):\n",
            " #   Column      Non-Null Count  Dtype \n",
            "---  ------      --------------  ----- \n",
            " 0   hmid        10560 non-null  int64 \n",
            " 1   moment      10560 non-null  object\n",
            " 2   concepts    10560 non-null  object\n",
            " 3   agency      10560 non-null  object\n",
            " 4   social      10560 non-null  object\n",
            " 5   age         10551 non-null  object\n",
            " 6   country     10538 non-null  object\n",
            " 7   gender      10554 non-null  object\n",
            " 8   married     10545 non-null  object\n",
            " 9   parenthood  10551 non-null  object\n",
            " 10  reflection  10560 non-null  object\n",
            " 11  duration    10529 non-null  object\n",
            "dtypes: int64(1), object(11)\n",
            "memory usage: 990.1+ KB\n"
          ]
        }
      ]
    },
    {
      "cell_type": "code",
      "source": [
        "df.isnull().sum()"
      ],
      "metadata": {
        "colab": {
          "base_uri": "https://localhost:8080/"
        },
        "id": "8SwtjVDvDNk3",
        "outputId": "0dd16ce2-d8e2-47a6-ee15-055f6c819b7c"
      },
      "execution_count": 8,
      "outputs": [
        {
          "output_type": "execute_result",
          "data": {
            "text/plain": [
              "hmid           0\n",
              "moment         0\n",
              "concepts       0\n",
              "agency         0\n",
              "social         0\n",
              "age            9\n",
              "country       22\n",
              "gender         6\n",
              "married       15\n",
              "parenthood     9\n",
              "reflection     0\n",
              "duration      31\n",
              "dtype: int64"
            ]
          },
          "metadata": {},
          "execution_count": 8
        }
      ]
    },
    {
      "cell_type": "code",
      "source": [
        "df.dropna(subset= ['age','country','gender','married','parenthood','duration'], inplace= True)"
      ],
      "metadata": {
        "id": "NfotBjIHMJtB"
      },
      "execution_count": 9,
      "outputs": []
    },
    {
      "cell_type": "code",
      "source": [
        "a= df['age'].values[df['age'].apply(lambda x: isinstance(x, str))].tolist()\n",
        "regex= r'[A-Za-z]+'\n",
        "regex1= r'\\s+'\n",
        "templist= []\n",
        "for word in a:\n",
        "    temp= re.sub(regex1,'a', word)\n",
        "    temp1= re.sub(regex,\"0\", temp)\n",
        "    templist.append(temp1)\n",
        "tempp= []\n",
        "for i in templist:\n",
        "    tempp.append(int(float(i)))\n",
        "df['age']= tempp"
      ],
      "metadata": {
        "id": "RVc5Q0YcJr1f"
      },
      "execution_count": 10,
      "outputs": []
    },
    {
      "cell_type": "code",
      "source": [
        "df.isna().sum()"
      ],
      "metadata": {
        "colab": {
          "base_uri": "https://localhost:8080/"
        },
        "id": "Op6syx_jOua_",
        "outputId": "a08e7ef5-a952-4ca1-b7f1-43cc1a3bb3f2"
      },
      "execution_count": 11,
      "outputs": [
        {
          "output_type": "execute_result",
          "data": {
            "text/plain": [
              "hmid          0\n",
              "moment        0\n",
              "concepts      0\n",
              "agency        0\n",
              "social        0\n",
              "age           0\n",
              "country       0\n",
              "gender        0\n",
              "married       0\n",
              "parenthood    0\n",
              "reflection    0\n",
              "duration      0\n",
              "dtype: int64"
            ]
          },
          "metadata": {},
          "execution_count": 11
        }
      ]
    },
    {
      "cell_type": "code",
      "source": [
        "def clean_df(corpus):\n",
        "    clean_text=[]\n",
        "    for line in df['moment'].values:\n",
        "        regex1= r'[^A-Za-z]|[0-9]'\n",
        "        regex2= r'[^A-Za-z]'\n",
        "        temp1= re.sub(regex1,' ',line)\n",
        "        corpus2=re.sub(\"\\s+\",' ',temp1)\n",
        "        #corpus2= re.split(regex2, temp2)\n",
        "        clean_text.append(corpus2.strip()) \n",
        "    return clean_text"
      ],
      "metadata": {
        "id": "2OYPTuhfD8ER"
      },
      "execution_count": 12,
      "outputs": []
    },
    {
      "cell_type": "code",
      "source": [
        "clean_text =clean_df(df['moment'])\n",
        "df['moment']= clean_text "
      ],
      "metadata": {
        "id": "rfLmE-pGKXgZ"
      },
      "execution_count": 13,
      "outputs": []
    },
    {
      "cell_type": "code",
      "source": [
        "df['moment']"
      ],
      "metadata": {
        "colab": {
          "base_uri": "https://localhost:8080/"
        },
        "id": "-JVuIcD1KymA",
        "outputId": "6830d1ef-c3b3-4b65-926f-2a91a2c3542c"
      },
      "execution_count": 14,
      "outputs": [
        {
          "output_type": "execute_result",
          "data": {
            "text/plain": [
              "0        I was happy when my son got marks in his exami...\n",
              "1                went to movies with my friends it was fun\n",
              "2        A hot kiss with my girl friend last night made...\n",
              "3        My son woke me up to a fantastic breakfast of ...\n",
              "4        My older daughter keeps patting my younger dau...\n",
              "                               ...                        \n",
              "10555     My husband called me just to tell me he loved me\n",
              "10556         I worked out which always makes me feel good\n",
              "10557     Finally got to watch the new Resident Evil movie\n",
              "10558    I got to talk to an old friend and reminisce o...\n",
              "10559    I had a great meeting yesterday at work with m...\n",
              "Name: moment, Length: 10485, dtype: object"
            ]
          },
          "metadata": {},
          "execution_count": 14
        }
      ]
    },
    {
      "cell_type": "code",
      "source": [
        "le_df = df.drop(['moment','hmid'], axis=1)\n",
        "le_df.reset_index(drop= True, inplace= True)\n",
        "var_mod = le_df.columns\n",
        "Label_encoder = LabelEncoder()\n",
        "for i in var_mod:\n",
        "    if i!= 'age':\n",
        "        le_df[i] = Label_encoder.fit_transform(le_df[i])\n",
        "le_df.reset_index(drop=True, inplace= True)"
      ],
      "metadata": {
        "id": "8-cNFGOgK6Gr"
      },
      "execution_count": 15,
      "outputs": []
    },
    {
      "cell_type": "code",
      "source": [
        "le_df_1= le_df.drop(['agency','social'],axis= 1)"
      ],
      "metadata": {
        "id": "6SJ8lY_jXHpi"
      },
      "execution_count": 16,
      "outputs": []
    },
    {
      "cell_type": "code",
      "source": [
        "def feature_eng(method_name,data):\n",
        "    if method_name== 'BOW':\n",
        "        BOW_1 = CountVectorizer()  \n",
        "        vectorized= BOW_1.fit_transform(data)\n",
        "    elif method_name== 'BOW_with_N_gram':\n",
        "        BOW_2 = CountVectorizer(ngram_range= (1,2))\n",
        "        vectorized= BOW_2.fit_transform(data)\n",
        "    elif method_name== 'TFIDF':\n",
        "        TFIDF_1 = TfidfVectorizer()\n",
        "        vectorized= TFIDF_1.fit_transform(data)\n",
        "    elif method_name== 'TFIDF_with_N_gram':\n",
        "        TFIDF_2 = TfidfVectorizer(ngram_range= (1,2))\n",
        "        vectorized= TFIDF_2.fit_transform(data)\n",
        "    return vectorized"
      ],
      "metadata": {
        "id": "UuGkrSkOooUt"
      },
      "execution_count": 17,
      "outputs": []
    },
    {
      "cell_type": "code",
      "source": [
        "temp_list= ['BOW', 'BOW_with_N_gram', 'TFIDF','TFIDF_with_N_gram']\n",
        "data= df['moment'].values\n",
        "for method in temp_list:\n",
        "      locals()[\"vectorized_\"+str(method)]= feature_eng(method,data)\n",
        "      locals()[\"TSNE_\"+str(method)]= TSNE(n_components=2, learning_rate='auto',init='random').fit_transform(locals()[\"vectorized_\"+str(method)])"
      ],
      "metadata": {
        "id": "qxA3sMAdV8jc"
      },
      "execution_count": 18,
      "outputs": []
    },
    {
      "cell_type": "code",
      "source": [
        "def training_model(model_name,X, y, print_info):\n",
        "    if model_name == 'knn':\n",
        "        model = KNeighborsClassifier(n_neighbors=7,n_jobs=-1,weights='distance',metric='euclidean')\n",
        "    elif model_name == \"Bagging_Classifier\":\n",
        "        model = BaggingClassifier(DecisionTreeClassifier(random_state= 20), \n",
        "                                               n_estimators= 500, max_samples= 100,\n",
        "                                               bootstrap=True, n_jobs=-1)\n",
        "        \n",
        "    X_train, X_test, y_train, y_test = train_test_split(X, y.values,train_size = 0.7)\n",
        "\n",
        "    my_model= model.fit(X_train, y_train)\n",
        "    predictions= model.predict(X_test)\n",
        "    print(\"The accuracy for {} model on {} is: \".format(model_name, print_info),accuracy_score(y_test,predictions))\n",
        "    print(metrics.classification_report(y_test, predictions))\n",
        "    print(\"The confusion_matrix for {} model on {} is: \".format(model_name, print_info),\"\\n\", confusion_matrix(y_test, predictions))\n",
        "    return predictions"
      ],
      "metadata": {
        "id": "5z41nR4HWgS5"
      },
      "execution_count": 97,
      "outputs": []
    },
    {
      "cell_type": "code",
      "source": [
        "def plot_pred(method_name, model_name, y_df, print_info):\n",
        "    temp = pd.DataFrame(method_name, columns= ['X','Y'])\n",
        "    final_X_df = pd.concat([temp,le_df_1], axis= 1)\n",
        "    pred= training_model(model_name,final_X_df, y_df,print_info )\n",
        "    return pred"
      ],
      "metadata": {
        "id": "DLWUm0jHDDDa"
      },
      "execution_count": 32,
      "outputs": []
    },
    {
      "cell_type": "markdown",
      "source": [
        "### Model evaluations for 'Agency' target variable using KNN on BOW and TFIDF with and without N-grams"
      ],
      "metadata": {
        "id": "NptEGIgAhvFd"
      }
    },
    {
      "cell_type": "code",
      "source": [
        "knn_BOW_pred= plot_pred(TSNE_BOW, 'knn', le_df['agency'], 'TSNE_BOW')"
      ],
      "metadata": {
        "id": "P0AqZcr5SycF",
        "colab": {
          "base_uri": "https://localhost:8080/"
        },
        "outputId": "1c037906-50cf-417f-e1cb-5807760b5dd9"
      },
      "execution_count": 98,
      "outputs": [
        {
          "output_type": "stream",
          "name": "stdout",
          "text": [
            "The accuracy for knn model on TSNE_BOW is:  0.77177368086459\n",
            "              precision    recall  f1-score   support\n",
            "\n",
            "           0       0.58      0.43      0.50       814\n",
            "           1       0.82      0.89      0.85      2332\n",
            "\n",
            "    accuracy                           0.77      3146\n",
            "   macro avg       0.70      0.66      0.67      3146\n",
            "weighted avg       0.76      0.77      0.76      3146\n",
            "\n",
            "The confusion_matrix for knn model on TSNE_BOW is:  \n",
            " [[ 354  460]\n",
            " [ 258 2074]]\n"
          ]
        }
      ]
    },
    {
      "cell_type": "code",
      "source": [
        "knn_BOW_ngram_pred= plot_pred(TSNE_BOW_with_N_gram, 'knn', le_df['agency'], 'TSNE_BOW_with_N_gram')"
      ],
      "metadata": {
        "id": "485DFfv_aFJI",
        "colab": {
          "base_uri": "https://localhost:8080/"
        },
        "outputId": "322ebb55-71b2-4593-98e9-b3a4554c8bef"
      },
      "execution_count": 99,
      "outputs": [
        {
          "output_type": "stream",
          "name": "stdout",
          "text": [
            "The accuracy for knn model on TSNE_BOW_with_N_gram is:  0.7536554354736172\n",
            "              precision    recall  f1-score   support\n",
            "\n",
            "           0       0.52      0.39      0.44       801\n",
            "           1       0.81      0.88      0.84      2345\n",
            "\n",
            "    accuracy                           0.75      3146\n",
            "   macro avg       0.66      0.63      0.64      3146\n",
            "weighted avg       0.73      0.75      0.74      3146\n",
            "\n",
            "The confusion_matrix for knn model on TSNE_BOW_with_N_gram is:  \n",
            " [[ 310  491]\n",
            " [ 284 2061]]\n"
          ]
        }
      ]
    },
    {
      "cell_type": "code",
      "source": [
        "knn_TFIDF_pred= plot_pred(TSNE_TFIDF, 'knn', le_df['agency'], 'TSNE_TFIDF')"
      ],
      "metadata": {
        "id": "jtIzfbO2auvI",
        "colab": {
          "base_uri": "https://localhost:8080/"
        },
        "outputId": "af3ec8fb-8270-442e-9a21-adbf0a140866"
      },
      "execution_count": 100,
      "outputs": [
        {
          "output_type": "stream",
          "name": "stdout",
          "text": [
            "The accuracy for knn model on TSNE_TFIDF is:  0.736808645899555\n",
            "              precision    recall  f1-score   support\n",
            "\n",
            "           0       0.49      0.35      0.41       817\n",
            "           1       0.79      0.87      0.83      2329\n",
            "\n",
            "    accuracy                           0.74      3146\n",
            "   macro avg       0.64      0.61      0.62      3146\n",
            "weighted avg       0.71      0.74      0.72      3146\n",
            "\n",
            "The confusion_matrix for knn model on TSNE_TFIDF is:  \n",
            " [[ 285  532]\n",
            " [ 296 2033]]\n"
          ]
        }
      ]
    },
    {
      "cell_type": "code",
      "source": [
        "knn_TFIDF_ngram_pred= plot_pred(TSNE_TFIDF_with_N_gram, 'knn', le_df['agency'], 'TSNE_TFIDF_with_N_gram')"
      ],
      "metadata": {
        "id": "5tVyyONqbkjg",
        "colab": {
          "base_uri": "https://localhost:8080/"
        },
        "outputId": "63764875-0a0e-4f7f-bbbc-edce7aa77e30"
      },
      "execution_count": 101,
      "outputs": [
        {
          "output_type": "stream",
          "name": "stdout",
          "text": [
            "The accuracy for knn model on TSNE_TFIDF_with_N_gram is:  0.7507946598855689\n",
            "              precision    recall  f1-score   support\n",
            "\n",
            "           0       0.53      0.40      0.45       820\n",
            "           1       0.80      0.88      0.84      2326\n",
            "\n",
            "    accuracy                           0.75      3146\n",
            "   macro avg       0.67      0.64      0.65      3146\n",
            "weighted avg       0.73      0.75      0.74      3146\n",
            "\n",
            "The confusion_matrix for knn model on TSNE_TFIDF_with_N_gram is:  \n",
            " [[ 325  495]\n",
            " [ 289 2037]]\n"
          ]
        }
      ]
    },
    {
      "cell_type": "markdown",
      "source": [
        "###Model evaluations for 'Agency' target variable using Bagging_Classifier on BOW and TFIDF with and without N-grams"
      ],
      "metadata": {
        "id": "G6whi1RxiaI5"
      }
    },
    {
      "cell_type": "code",
      "source": [
        "Bagging_Classifier_BOW_pred= plot_pred(TSNE_BOW, 'Bagging_Classifier', le_df['agency'], 'TSNE_BOW')"
      ],
      "metadata": {
        "colab": {
          "base_uri": "https://localhost:8080/"
        },
        "id": "jx0QfApYie-S",
        "outputId": "83ddabb2-0134-4fec-b777-969686645501"
      },
      "execution_count": 102,
      "outputs": [
        {
          "output_type": "stream",
          "name": "stdout",
          "text": [
            "The accuracy for Bagging_Classifier model on TSNE_BOW is:  0.7708200890019072\n",
            "              precision    recall  f1-score   support\n",
            "\n",
            "           0       0.65      0.22      0.33       803\n",
            "           1       0.78      0.96      0.86      2343\n",
            "\n",
            "    accuracy                           0.77      3146\n",
            "   macro avg       0.72      0.59      0.60      3146\n",
            "weighted avg       0.75      0.77      0.73      3146\n",
            "\n",
            "The confusion_matrix for Bagging_Classifier model on TSNE_BOW is:  \n",
            " [[ 178  625]\n",
            " [  96 2247]]\n"
          ]
        }
      ]
    },
    {
      "cell_type": "code",
      "source": [
        "Bagging_Classifier_BOW_ngram_pred= plot_pred(TSNE_BOW_with_N_gram, 'Bagging_Classifier', le_df['agency'], 'TSNE_BOW_with_N_gram')"
      ],
      "metadata": {
        "colab": {
          "base_uri": "https://localhost:8080/"
        },
        "id": "LUkNNmTOid90",
        "outputId": "d8e2fd8b-71c4-4afb-b223-7f11cedb7b27"
      },
      "execution_count": 103,
      "outputs": [
        {
          "output_type": "stream",
          "name": "stdout",
          "text": [
            "The accuracy for Bagging_Classifier model on TSNE_BOW_with_N_gram is:  0.7523839796567069\n",
            "              precision    recall  f1-score   support\n",
            "\n",
            "           0       0.67      0.07      0.13       808\n",
            "           1       0.75      0.99      0.86      2338\n",
            "\n",
            "    accuracy                           0.75      3146\n",
            "   macro avg       0.71      0.53      0.49      3146\n",
            "weighted avg       0.73      0.75      0.67      3146\n",
            "\n",
            "The confusion_matrix for Bagging_Classifier model on TSNE_BOW_with_N_gram is:  \n",
            " [[  57  751]\n",
            " [  28 2310]]\n"
          ]
        }
      ]
    },
    {
      "cell_type": "code",
      "source": [
        "Bagging_Classifier_TFIDF_pred= plot_pred(TSNE_TFIDF, 'Bagging_Classifier', le_df['agency'], 'TSNE_TFIDF')"
      ],
      "metadata": {
        "id": "MwG5wJ8AMbHQ",
        "colab": {
          "base_uri": "https://localhost:8080/"
        },
        "outputId": "1d144fcc-e0d5-4909-8851-1dd37bdbade4"
      },
      "execution_count": 104,
      "outputs": [
        {
          "output_type": "stream",
          "name": "stdout",
          "text": [
            "The accuracy for Bagging_Classifier model on TSNE_TFIDF is:  0.7476160203432931\n",
            "              precision    recall  f1-score   support\n",
            "\n",
            "           0       0.63      0.05      0.10       812\n",
            "           1       0.75      0.99      0.85      2334\n",
            "\n",
            "    accuracy                           0.75      3146\n",
            "   macro avg       0.69      0.52      0.48      3146\n",
            "weighted avg       0.72      0.75      0.66      3146\n",
            "\n",
            "The confusion_matrix for Bagging_Classifier model on TSNE_TFIDF is:  \n",
            " [[  44  768]\n",
            " [  26 2308]]\n"
          ]
        }
      ]
    },
    {
      "cell_type": "code",
      "source": [
        "Bagging_Classifier_TFIDF_ngram_pred= plot_pred(TSNE_TFIDF_with_N_gram, 'Bagging_Classifier', le_df['agency'], 'TSNE_TFIDF_with_N_gram')"
      ],
      "metadata": {
        "id": "Wnf6ozV1JJvY",
        "colab": {
          "base_uri": "https://localhost:8080/"
        },
        "outputId": "2a7ea75a-db3e-4004-de0d-0c153b90318b"
      },
      "execution_count": 105,
      "outputs": [
        {
          "output_type": "stream",
          "name": "stdout",
          "text": [
            "The accuracy for Bagging_Classifier model on TSNE_TFIDF_with_N_gram is:  0.7469802924348379\n",
            "              precision    recall  f1-score   support\n",
            "\n",
            "           0       0.76      0.05      0.10       825\n",
            "           1       0.75      0.99      0.85      2321\n",
            "\n",
            "    accuracy                           0.75      3146\n",
            "   macro avg       0.76      0.52      0.47      3146\n",
            "weighted avg       0.75      0.75      0.65      3146\n",
            "\n",
            "The confusion_matrix for Bagging_Classifier model on TSNE_TFIDF_with_N_gram is:  \n",
            " [[  42  783]\n",
            " [  13 2308]]\n"
          ]
        }
      ]
    },
    {
      "cell_type": "markdown",
      "source": [
        "### Model evaluations for 'Social' target variable using KNN on BOW and TFIDF with and without N-grams"
      ],
      "metadata": {
        "id": "g0N5D_E4t_XL"
      }
    },
    {
      "cell_type": "code",
      "source": [
        "knn_BOW_pred_social= plot_pred(TSNE_BOW, 'knn', le_df['social'], 'TSNE_BOW')"
      ],
      "metadata": {
        "id": "w48185zbp4vI",
        "colab": {
          "base_uri": "https://localhost:8080/"
        },
        "outputId": "d7427ce1-79c4-4ee5-9cbf-732e4f242e07"
      },
      "execution_count": 106,
      "outputs": [
        {
          "output_type": "stream",
          "name": "stdout",
          "text": [
            "The accuracy for knn model on TSNE_BOW is:  0.8102352193261284\n",
            "              precision    recall  f1-score   support\n",
            "\n",
            "           0       0.78      0.83      0.80      1471\n",
            "           1       0.84      0.79      0.82      1675\n",
            "\n",
            "    accuracy                           0.81      3146\n",
            "   macro avg       0.81      0.81      0.81      3146\n",
            "weighted avg       0.81      0.81      0.81      3146\n",
            "\n",
            "The confusion_matrix for knn model on TSNE_BOW is:  \n",
            " [[1222  249]\n",
            " [ 348 1327]]\n"
          ]
        }
      ]
    },
    {
      "cell_type": "code",
      "source": [
        "knn_BOW_ngram_pred_social= plot_pred(TSNE_BOW_with_N_gram, 'knn', le_df['social'], 'TSNE_BOW_with_N_gram')"
      ],
      "metadata": {
        "colab": {
          "base_uri": "https://localhost:8080/"
        },
        "id": "f5CjHQiDuN-C",
        "outputId": "bc113086-6b93-48b5-9d83-154373a37730"
      },
      "execution_count": 107,
      "outputs": [
        {
          "output_type": "stream",
          "name": "stdout",
          "text": [
            "The accuracy for knn model on TSNE_BOW_with_N_gram is:  0.7857596948506039\n",
            "              precision    recall  f1-score   support\n",
            "\n",
            "           0       0.75      0.83      0.79      1494\n",
            "           1       0.83      0.75      0.79      1652\n",
            "\n",
            "    accuracy                           0.79      3146\n",
            "   macro avg       0.79      0.79      0.79      3146\n",
            "weighted avg       0.79      0.79      0.79      3146\n",
            "\n",
            "The confusion_matrix for knn model on TSNE_BOW_with_N_gram is:  \n",
            " [[1235  259]\n",
            " [ 415 1237]]\n"
          ]
        }
      ]
    },
    {
      "cell_type": "code",
      "source": [
        "knn_TFIDF_pred_social= plot_pred(TSNE_TFIDF, 'knn', le_df['social'], 'TSNE_TFIDF')"
      ],
      "metadata": {
        "colab": {
          "base_uri": "https://localhost:8080/"
        },
        "id": "xMin7F5JuPjh",
        "outputId": "f6eee367-c8f9-4cea-d431-a3eda26d3afb"
      },
      "execution_count": 108,
      "outputs": [
        {
          "output_type": "stream",
          "name": "stdout",
          "text": [
            "The accuracy for knn model on TSNE_TFIDF is:  0.7768595041322314\n",
            "              precision    recall  f1-score   support\n",
            "\n",
            "           0       0.75      0.79      0.77      1470\n",
            "           1       0.81      0.76      0.78      1676\n",
            "\n",
            "    accuracy                           0.78      3146\n",
            "   macro avg       0.78      0.78      0.78      3146\n",
            "weighted avg       0.78      0.78      0.78      3146\n",
            "\n",
            "The confusion_matrix for knn model on TSNE_TFIDF is:  \n",
            " [[1167  303]\n",
            " [ 399 1277]]\n"
          ]
        }
      ]
    },
    {
      "cell_type": "code",
      "source": [
        "knn_TFIDF_ngram_pred_social= plot_pred(TSNE_TFIDF_with_N_gram, 'knn', le_df['social'], 'TSNE_TFIDF_with_N_gram')"
      ],
      "metadata": {
        "colab": {
          "base_uri": "https://localhost:8080/"
        },
        "id": "DXukei68uQ1C",
        "outputId": "e6faeff5-bdbf-436a-ec5c-9a5adab8e416"
      },
      "execution_count": 109,
      "outputs": [
        {
          "output_type": "stream",
          "name": "stdout",
          "text": [
            "The accuracy for knn model on TSNE_TFIDF_with_N_gram is:  0.7838525111252383\n",
            "              precision    recall  f1-score   support\n",
            "\n",
            "           0       0.75      0.82      0.78      1492\n",
            "           1       0.82      0.75      0.79      1654\n",
            "\n",
            "    accuracy                           0.78      3146\n",
            "   macro avg       0.79      0.79      0.78      3146\n",
            "weighted avg       0.79      0.78      0.78      3146\n",
            "\n",
            "The confusion_matrix for knn model on TSNE_TFIDF_with_N_gram is:  \n",
            " [[1224  268]\n",
            " [ 412 1242]]\n"
          ]
        }
      ]
    },
    {
      "cell_type": "markdown",
      "source": [
        "### Model evaluations for 'Social' target variable using Bagging_Classifier on BOW and TFIDF with and without N-grams"
      ],
      "metadata": {
        "id": "PyEC7vBFufri"
      }
    },
    {
      "cell_type": "code",
      "source": [
        "Bagging_Classifier_BOW_pred_social = plot_pred(TSNE_BOW, 'Bagging_Classifier', le_df['social'], 'TSNE_BOW')"
      ],
      "metadata": {
        "colab": {
          "base_uri": "https://localhost:8080/"
        },
        "id": "_Get-DDyuZ2l",
        "outputId": "22144284-c1b5-417d-8d0e-43898f6a4621"
      },
      "execution_count": 110,
      "outputs": [
        {
          "output_type": "stream",
          "name": "stdout",
          "text": [
            "The accuracy for Bagging_Classifier model on TSNE_BOW is:  0.7676414494596313\n",
            "              precision    recall  f1-score   support\n",
            "\n",
            "           0       0.74      0.79      0.76      1476\n",
            "           1       0.80      0.75      0.77      1670\n",
            "\n",
            "    accuracy                           0.77      3146\n",
            "   macro avg       0.77      0.77      0.77      3146\n",
            "weighted avg       0.77      0.77      0.77      3146\n",
            "\n",
            "The confusion_matrix for Bagging_Classifier model on TSNE_BOW is:  \n",
            " [[1164  312]\n",
            " [ 419 1251]]\n"
          ]
        }
      ]
    },
    {
      "cell_type": "code",
      "source": [
        "Bagging_Classifier_BOW_ngram_pred_social= plot_pred(TSNE_BOW_with_N_gram, 'Bagging_Classifier', le_df['social'], 'TSNE_BOW_with_N_gram')"
      ],
      "metadata": {
        "colab": {
          "base_uri": "https://localhost:8080/"
        },
        "id": "So6HwjGcvaNW",
        "outputId": "4cd7e561-1da1-4c87-ccc6-5822575943d0"
      },
      "execution_count": 111,
      "outputs": [
        {
          "output_type": "stream",
          "name": "stdout",
          "text": [
            "The accuracy for Bagging_Classifier model on TSNE_BOW_with_N_gram is:  0.7393515575333757\n",
            "              precision    recall  f1-score   support\n",
            "\n",
            "           0       0.70      0.77      0.74      1475\n",
            "           1       0.78      0.71      0.74      1671\n",
            "\n",
            "    accuracy                           0.74      3146\n",
            "   macro avg       0.74      0.74      0.74      3146\n",
            "weighted avg       0.74      0.74      0.74      3146\n",
            "\n",
            "The confusion_matrix for Bagging_Classifier model on TSNE_BOW_with_N_gram is:  \n",
            " [[1142  333]\n",
            " [ 487 1184]]\n"
          ]
        }
      ]
    },
    {
      "cell_type": "code",
      "source": [
        "Bagging_Classifier_TFIDF_pred_social= plot_pred(TSNE_TFIDF, 'Bagging_Classifier', le_df['social'], 'TSNE_TFIDF')"
      ],
      "metadata": {
        "colab": {
          "base_uri": "https://localhost:8080/"
        },
        "id": "qzhhF4j_vbxT",
        "outputId": "e8cc2ec9-143b-4766-a5ce-276d68499f76"
      },
      "execution_count": 112,
      "outputs": [
        {
          "output_type": "stream",
          "name": "stdout",
          "text": [
            "The accuracy for Bagging_Classifier model on TSNE_TFIDF is:  0.7399872854418309\n",
            "              precision    recall  f1-score   support\n",
            "\n",
            "           0       0.71      0.77      0.74      1489\n",
            "           1       0.77      0.72      0.74      1657\n",
            "\n",
            "    accuracy                           0.74      3146\n",
            "   macro avg       0.74      0.74      0.74      3146\n",
            "weighted avg       0.74      0.74      0.74      3146\n",
            "\n",
            "The confusion_matrix for Bagging_Classifier model on TSNE_TFIDF is:  \n",
            " [[1143  346]\n",
            " [ 472 1185]]\n"
          ]
        }
      ]
    },
    {
      "cell_type": "code",
      "source": [
        "Bagging_Classifier_TFIDF_ngram_pred_social= plot_pred(TSNE_TFIDF_with_N_gram, 'Bagging_Classifier', le_df['social'], 'TSNE_TFIDF_with_N_gram')"
      ],
      "metadata": {
        "colab": {
          "base_uri": "https://localhost:8080/"
        },
        "id": "kYxLZ1ysvdXb",
        "outputId": "1b868548-8d89-490a-9a34-abea96c46ea7"
      },
      "execution_count": 113,
      "outputs": [
        {
          "output_type": "stream",
          "name": "stdout",
          "text": [
            "The accuracy for Bagging_Classifier model on TSNE_TFIDF_with_N_gram is:  0.7546090273363001\n",
            "              precision    recall  f1-score   support\n",
            "\n",
            "           0       0.70      0.81      0.75      1453\n",
            "           1       0.81      0.71      0.76      1693\n",
            "\n",
            "    accuracy                           0.75      3146\n",
            "   macro avg       0.76      0.76      0.75      3146\n",
            "weighted avg       0.76      0.75      0.75      3146\n",
            "\n",
            "The confusion_matrix for Bagging_Classifier model on TSNE_TFIDF_with_N_gram is:  \n",
            " [[1180  273]\n",
            " [ 499 1194]]\n"
          ]
        }
      ]
    },
    {
      "cell_type": "code",
      "source": [
        ""
      ],
      "metadata": {
        "id": "-59c-bZxvq-u"
      },
      "execution_count": 113,
      "outputs": []
    },
    {
      "cell_type": "code",
      "source": [
        ""
      ],
      "metadata": {
        "id": "88HhSe9Uwb9I"
      },
      "execution_count": null,
      "outputs": []
    }
  ]
}