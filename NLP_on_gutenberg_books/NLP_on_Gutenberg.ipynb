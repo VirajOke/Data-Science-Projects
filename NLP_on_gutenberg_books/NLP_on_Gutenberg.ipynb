  {
   "cell_type": "code",
   "execution_count": 2,
   "metadata": {},
   "outputs": [],
   "source": [
    "import pandas as pd\n",
    "import numpy as np\n",
    "import nltk \n",
    "from nltk.corpus import PlaintextCorpusReader"
   ]
  },
  {
   "cell_type": "code",
   "execution_count": 3,
   "metadata": {},
   "outputs": [],
   "source": [
    "import re\n",
    "from nltk.corpus import stopwords\n",
    "from nltk.tokenize import word_tokenize"
   ]
  },
  {
   "cell_type": "markdown",
   "metadata": {},
   "source": [
    "### Functions for data cleaning "
   ]
  },
  {
   "cell_type": "code",
   "execution_count": 4,
   "metadata": {},
   "outputs": [],
   "source": [
    "def removeurls(text):\n",
    "    regex= r'(https*:\\/\\/)(\\s)*(www\\.)*(\\s)*((\\w|\\s)+\\.)*([\\w\\-\\s]+\\/)*([\\w\\-]+)((\\?)?[\\w\\s]*=\\s*[\\w\\%&]*)*'\n",
    "    return re.sub(regex,\" \",text)"
   ]
  },
  {
   "cell_type": "code",
   "execution_count": 5,
   "metadata": {},
   "outputs": [],
   "source": [
    "def removespecialchar(text):\n",
    "    regex= r\"[^A-Za-z0-9]\"\n",
    "    return re.sub(regex,\" \",text)"
   ]
  },
  {
   "cell_type": "code",
   "execution_count": 6,
   "metadata": {},
   "outputs": [],
   "source": [
    "def removeblanks(text):\n",
    "    return re.sub(r'\\s\\s+',\" \",text)"
   ]
  },
  {
   "cell_type": "code",
   "execution_count": 7,
   "metadata": {},
   "outputs": [],
   "source": [
    "import random"
   ]
  },
  {
   "cell_type": "code",
   "execution_count": 8,
   "metadata": {},
   "outputs": [],
   "source": [
    "sample_trial=[]\n",
    "def samples(arg):\n",
    "    for i in range(0,200):\n",
    "        x = random.sample(arg,100)\n",
    "        sample_trial.append(x)\n",
    "    return sample_trial"
   ]
  },
  {
   "cell_type": "code",
   "execution_count": 9,
   "metadata": {},
   "outputs": [],
   "source": [
    "def datacleaning(arg):\n",
    "    clean_data1 = removeurls(arg)\n",
    "    clean_data2 = removespecialchar(clean_data1)\n",
    "    clean_data3 = removeblanks(clean_data2)\n",
    "    tokenized_data = word_tokenize(clean_data3)\n",
    "    return tokenized_data"
   ]
  },
  {
   "cell_type": "markdown",
   "metadata": {},
   "source": [
    "### Ebook- Aspects of nature"
   ]
  },
  {
   "cell_type": "code",
   "execution_count": 10,
   "metadata": {},
   "outputs": [],
   "source": [
    "book_data= open(\"Aspects_of_nature.txt\")\n",
    "data1= book_data.read().replace(\"\\n\",\" \")\n",
    "book_data.close()"
   ]
  },
  {
   "cell_type": "code",
   "execution_count": 11,
   "metadata": {},
   "outputs": [
    {
     "data": {
      "text/plain": [
       "'The Project Gutenberg eBook of Aspects of Nature (Vol. 1 of 2), by Alexander von Humboldt  This eBook is for the use of anyone anywhere in the United States and most other parts of the world at no cost and with almost no restrictions whatsoever. You may copy it, give it away or re-use it under the terms of the Project Gutenberg License included with this eBook or online at www.gutenberg.org. If you are not located in the United States, you will have to check the laws of the country where you are located before using this eBook.  Title: Aspects of Nature (Vol. 1 of 2)        in Different Lands and Different Climates; with Scientific        Elucidations  Author: Alexander von Humboldt  Translator: Elizabeth Sabine  Release Date: January 16, 2022 [eBook #67183]  Language: English  Produced by: Henry Flower and the Online Distributed Proofreading Team              at https://www.pgdp.net (This file was produced from images              generously made available by The Internet Archive)  **'"
      ]
     },
     "execution_count": 11,
     "metadata": {},
     "output_type": "execute_result"
    }
   ],
   "source": [
    "data1[0:1000]"
   ]
  },
  {
   "cell_type": "code",
   "execution_count": 12,
   "metadata": {},
   "outputs": [],
   "source": [
    "clean_text_1= datacleaning(data1)"
   ]
  },
  {
   "cell_type": "code",
   "execution_count": 13,
   "metadata": {
    "scrolled": true
   },
   "outputs": [
    {
     "data": {
      "text/plain": [
       "['The', 'Project', 'Gutenberg', 'eBook', 'of', 'Aspects', 'of', 'Nature']"
      ]
     },
     "execution_count": 13,
     "metadata": {},
     "output_type": "execute_result"
    }
   ],
   "source": [
    "clean_text_1[0:8]"
   ]
  },
  {
   "cell_type": "markdown",
   "metadata": {},
   "source": [
    "### Ebook- The Bird Boys"
   ]
  },
  {
   "cell_type": "code",
   "execution_count": 14,
   "metadata": {},
   "outputs": [],
   "source": [
    "book_data2= open(\"The_Bird_Boys.txt\")\n",
    "data2= book_data2.read().replace(\"\\n\",\" \")\n",
    "book_data2.close()"
   ]
  },
  {
   "cell_type": "code",
   "execution_count": 15,
   "metadata": {
    "scrolled": true
   },
   "outputs": [
    {
     "data": {
      "text/plain": [
       "'They Saw the Aeroplane Leave the Earth.]  --------------------------------------------------------------------  THE BIRD BOYS’ AEROPLANE WONDER  Or  Young Aviators On a Cattle Ranch  By  JOHN LUTHER LANGWORHTY  Chicago  M. A. DONOHUE & COMPANY  --------------------------------------------------------------------  Copyright 1914  M. A. Donohue & Company  Chicago  --------------------------------------------------------------------  CONTENTS    I       Under the Spreading Beech   II      “Glorious News!”   III     Looking For Trouble   IV      The Panic That Came to Pass   V       What They Found at Witherspoon   VI      At the Double X Ranch   VII     A Pretty Close Call   VIII    Broncho Buster Meets His Match   IX      Figuring It All Out   X       Learning the Ropes on the Ranch   XI    '"
      ]
     },
     "execution_count": 15,
     "metadata": {},
     "output_type": "execute_result"
    }
   ],
   "source": [
    "data2[1000:1800]"
   ]
  },
  {
   "cell_type": "code",
   "execution_count": 16,
   "metadata": {},
   "outputs": [],
   "source": [
    "clean_text_2= datacleaning(data2)"
   ]
  },
  {
   "cell_type": "code",
   "execution_count": 17,
   "metadata": {},
   "outputs": [
    {
     "data": {
      "text/plain": [
       "['The', 'Project', 'Gutenberg', 'eBook', 'of', 'The', 'Bird', 'Boys']"
      ]
     },
     "execution_count": 17,
     "metadata": {},
     "output_type": "execute_result"
    }
   ],
   "source": [
    "clean_text_2[0:8]"
   ]
  },
  {
   "cell_type": "markdown",
   "metadata": {},
   "source": [
    "### The Truth About Lynching"
   ]
  },
  {
   "cell_type": "code",
   "execution_count": 18,
   "metadata": {},
   "outputs": [],
   "source": [
    "book_data3= open(\"The_Truth_About_Lynching.txt\")\n",
    "data3= book_data3.read().replace(\"\\n\",\" \")\n",
    "book_data2.close()"
   ]
  },
  {
   "cell_type": "code",
   "execution_count": 19,
   "metadata": {},
   "outputs": [
    {
     "data": {
      "text/plain": [
       "'           Internet Archive/American Libraries.)  *** START OF THE PROJECT GUTENBERG EBOOK THE TRUTH ABOUT LYNCHING AND THE NEGRO IN THE SOUTH ***                                  THE TRUTH ABOUT                           LYNCHING _and_ THE                           NEGRO IN THE SOUTH                    IN WHICH THE AUTHOR PLEADS THAT THE                  SOUTH BE MADE SAFE FOR THE WHITE RACE                                     BY                     WINFIELD H. COLLINS, A.M., PH.D.                                 AUTHOR OF            _The Domestic Slave Trade of the Southern States_              [Illustration: Neale Publishing Company colophon]                        THE NEALE PUBLISHING COMPANY                       440 FOURTH AVENUE, NEW YORK                                MCMXVIII     '"
      ]
     },
     "execution_count": 19,
     "metadata": {},
     "output_type": "execute_result"
    }
   ],
   "source": [
    "data3[1000:1800]"
   ]
  },
  {
   "cell_type": "code",
   "execution_count": 20,
   "metadata": {},
   "outputs": [],
   "source": [
    "clean_text_3= datacleaning(data3)"
   ]
  },
  {
   "cell_type": "code",
   "execution_count": 21,
   "metadata": {},
   "outputs": [
    {
     "data": {
      "text/plain": [
       "['The', 'Project', 'Gutenberg', 'eBook', 'of', 'The', 'Truth', 'About']"
      ]
     },
     "execution_count": 21,
     "metadata": {},
     "output_type": "execute_result"
    }
   ],
   "source": [
    "clean_text_3[0:8]"
   ]
  },
  {
   "cell_type": "markdown",
   "metadata": {},
   "source": [
    "### Random Sampling of 3 books\n",
    "200 samples of 100 random words for each book"
   ]
  },
  {
   "cell_type": "code",
   "execution_count": 23,
   "metadata": {},
   "outputs": [],
   "source": [
    "Aspects_of_nature = samples(clean_text_1)\n",
    "The_Bird_Boys = samples(clean_text_2)\n",
    "The_Truth_About_Lynching = samples(clean_text_3)"
   ]
  },
  {
   "cell_type": "code",
   "execution_count": 31,
   "metadata": {},
   "outputs": [
    {
     "name": "stdout",
     "output_type": "stream",
     "text": [
      "A single sample has 100 words\n",
      "200th sample containing 100 words:  \n",
      " ['isn', 'damage', 'necessitate', 'or', 'the', 'ever', 'things', 'two', 'would', 'on', 'given', 'if', 'and', 'at', 'of', 'be', 'the', 'sheets', 'the', 'out', 'Witherspoon', 'us', 'Release', 'I', 'short', 'be', 'tm', 'that', 'nearly', 'and', 'again', 'he', 'promised', 'from', 'around', 'he', 'of', 'collection', 'the', 'finding', 'a', 'little', 'off', 'dream', 'realized', 'apt', 'wouldn', 'played', 'done', 'thoroughly', 'complained', 'we', 'them', 'sleeves', 'TROUBLE', 'liquor', 'of', 'is', 'waiting', 'you', 'the', 'see', 'Andy', 'to', 'so', 'ourselves', 'wisp', 'a', 'worked', 'over', 'of', 'IS', 'where', 'though', 'had', 'could', 'done', 'owner', 'Straining', 'of', 'the', 'and', 'pay', 'at', 'facing', 'medium', 'the', 'to', 'was', 'for', 'nearly', 'Frank', 'don', 'assurance', 'you', 'their', 'News', 'reasonable', 'October', 'might']\n"
     ]
    }
   ],
   "source": [
    "print(\"A single sample has\",len(Aspects_of_nature[1]),\"words\")\n",
    "print(\"200th sample containing 100 words: \",\"\\n\",Aspects_of_nature[200])"
   ]
  },
  {
   "cell_type": "markdown",
   "metadata": {},
   "source": [
    "### A dataframe for all the books"
   ]
  },
  {
   "cell_type": "code",
   "execution_count": 32,
   "metadata": {},
   "outputs": [],
   "source": [
    "import itertools\n",
    "nest= list(itertools.zip_longest(Aspects_of_nature,The_Bird_Boys,The_Truth_About_Lynching))"
   ]
  },
  {
   "cell_type": "code",
   "execution_count": 33,
   "metadata": {},
   "outputs": [],
   "source": [
    "df = pd.DataFrame(nest, columns = ['Aspects_of_nature','The_Bird_Boys','The_Truth_About_Lynching'])"
   ]
  },
  {
   "cell_type": "code",
   "execution_count": 37,
   "metadata": {},
   "outputs": [
    {
     "data": {
      "text/html": [
       "<div>\n",
       "<style scoped>\n",
       "    .dataframe tbody tr th:only-of-type {\n",
       "        vertical-align: middle;\n",
       "    }\n",
       "\n",
       "    .dataframe tbody tr th {\n",
       "        vertical-align: top;\n",
       "    }\n",
       "\n",
       "    .dataframe thead th {\n",
       "        text-align: right;\n",
       "    }\n",
       "</style>\n",
       "<table border=\"1\" class=\"dataframe\">\n",
       "  <thead>\n",
       "    <tr style=\"text-align: right;\">\n",
       "      <th></th>\n",
       "      <th>Aspects_of_nature</th>\n",
       "      <th>The_Bird_Boys</th>\n",
       "      <th>The_Truth_About_Lynching</th>\n",
       "    </tr>\n",
       "  </thead>\n",
       "  <tbody>\n",
       "    <tr>\n",
       "      <th>0</th>\n",
       "      <td>[North, flourishing, is, the, Lecideas, fruitf...</td>\n",
       "      <td>[North, flourishing, is, the, Lecideas, fruitf...</td>\n",
       "      <td>[North, flourishing, is, the, Lecideas, fruitf...</td>\n",
       "    </tr>\n",
       "    <tr>\n",
       "      <th>1</th>\n",
       "      <td>[also, attention, s, of, He, partly, 109, 50, ...</td>\n",
       "      <td>[also, attention, s, of, He, partly, 109, 50, ...</td>\n",
       "      <td>[also, attention, s, of, He, partly, 109, 50, ...</td>\n",
       "    </tr>\n",
       "    <tr>\n",
       "      <th>2</th>\n",
       "      <td>[African, later, Catalan, with, meritorious, I...</td>\n",
       "      <td>[African, later, Catalan, with, meritorious, I...</td>\n",
       "      <td>[African, later, Catalan, with, meritorious, I...</td>\n",
       "    </tr>\n",
       "    <tr>\n",
       "      <th>3</th>\n",
       "      <td>[it, to, strata, the, se, Surinam, idea, almos...</td>\n",
       "      <td>[it, to, strata, the, se, Surinam, idea, almos...</td>\n",
       "      <td>[it, to, strata, the, se, Surinam, idea, almos...</td>\n",
       "    </tr>\n",
       "    <tr>\n",
       "      <th>4</th>\n",
       "      <td>[the, the, limited, volcano, Emperor, year, pe...</td>\n",
       "      <td>[the, the, limited, volcano, Emperor, year, pe...</td>\n",
       "      <td>[the, the, limited, volcano, Emperor, year, pe...</td>\n",
       "    </tr>\n",
       "    <tr>\n",
       "      <th>5</th>\n",
       "      <td>[terre, rising, families, Orinoco, often, Mar,...</td>\n",
       "      <td>[terre, rising, families, Orinoco, often, Mar,...</td>\n",
       "      <td>[terre, rising, families, Orinoco, often, Mar,...</td>\n",
       "    </tr>\n",
       "    <tr>\n",
       "      <th>6</th>\n",
       "      <td>[etymologists, the, in, and, of, Barrens, man,...</td>\n",
       "      <td>[etymologists, the, in, and, of, Barrens, man,...</td>\n",
       "      <td>[etymologists, the, in, and, of, Barrens, man,...</td>\n",
       "    </tr>\n",
       "    <tr>\n",
       "      <th>7</th>\n",
       "      <td>[that, North, Steppes, similar, atmosphere, hi...</td>\n",
       "      <td>[that, North, Steppes, similar, atmosphere, hi...</td>\n",
       "      <td>[that, North, Steppes, similar, atmosphere, hi...</td>\n",
       "    </tr>\n",
       "    <tr>\n",
       "      <th>8</th>\n",
       "      <td>[eaten, yet, also, only, the, another, as, pla...</td>\n",
       "      <td>[eaten, yet, also, only, the, another, as, pla...</td>\n",
       "      <td>[eaten, yet, also, only, the, another, as, pla...</td>\n",
       "    </tr>\n",
       "    <tr>\n",
       "      <th>9</th>\n",
       "      <td>[that, or, of, s, the, Soudan, we, erroneous, ...</td>\n",
       "      <td>[that, or, of, s, the, Soudan, we, erroneous, ...</td>\n",
       "      <td>[that, or, of, s, the, Soudan, we, erroneous, ...</td>\n",
       "    </tr>\n",
       "  </tbody>\n",
       "</table>\n",
       "</div>"
      ],
      "text/plain": [
       "                                   Aspects_of_nature  \\\n",
       "0  [North, flourishing, is, the, Lecideas, fruitf...   \n",
       "1  [also, attention, s, of, He, partly, 109, 50, ...   \n",
       "2  [African, later, Catalan, with, meritorious, I...   \n",
       "3  [it, to, strata, the, se, Surinam, idea, almos...   \n",
       "4  [the, the, limited, volcano, Emperor, year, pe...   \n",
       "5  [terre, rising, families, Orinoco, often, Mar,...   \n",
       "6  [etymologists, the, in, and, of, Barrens, man,...   \n",
       "7  [that, North, Steppes, similar, atmosphere, hi...   \n",
       "8  [eaten, yet, also, only, the, another, as, pla...   \n",
       "9  [that, or, of, s, the, Soudan, we, erroneous, ...   \n",
       "\n",
       "                                       The_Bird_Boys  \\\n",
       "0  [North, flourishing, is, the, Lecideas, fruitf...   \n",
       "1  [also, attention, s, of, He, partly, 109, 50, ...   \n",
       "2  [African, later, Catalan, with, meritorious, I...   \n",
       "3  [it, to, strata, the, se, Surinam, idea, almos...   \n",
       "4  [the, the, limited, volcano, Emperor, year, pe...   \n",
       "5  [terre, rising, families, Orinoco, often, Mar,...   \n",
       "6  [etymologists, the, in, and, of, Barrens, man,...   \n",
       "7  [that, North, Steppes, similar, atmosphere, hi...   \n",
       "8  [eaten, yet, also, only, the, another, as, pla...   \n",
       "9  [that, or, of, s, the, Soudan, we, erroneous, ...   \n",
       "\n",
       "                            The_Truth_About_Lynching  \n",
       "0  [North, flourishing, is, the, Lecideas, fruitf...  \n",
       "1  [also, attention, s, of, He, partly, 109, 50, ...  \n",
       "2  [African, later, Catalan, with, meritorious, I...  \n",
       "3  [it, to, strata, the, se, Surinam, idea, almos...  \n",
       "4  [the, the, limited, volcano, Emperor, year, pe...  \n",
       "5  [terre, rising, families, Orinoco, often, Mar,...  \n",
       "6  [etymologists, the, in, and, of, Barrens, man,...  \n",
       "7  [that, North, Steppes, similar, atmosphere, hi...  \n",
       "8  [eaten, yet, also, only, the, another, as, pla...  \n",
       "9  [that, or, of, s, the, Soudan, we, erroneous, ...  "
      ]
     },
     "execution_count": 37,
     "metadata": {},
     "output_type": "execute_result"
    }
   ],
   "source": [
    "df.head(10)"
   ]
  },
  {
   "cell_type": "code",
   "execution_count": null,
   "metadata": {},
   "outputs": [],
   "source": []
  },
  {
   "cell_type": "code",
   "execution_count": null,
   "metadata": {},
   "outputs": [],
   "source": []
  }
 ],
 "metadata": {
  "kernelspec": {
   "display_name": "Python 3",
   "language": "python",
   "name": "python3"
  },
  "language_info": {
   "codemirror_mode": {
    "name": "ipython",
    "version": 3
   },
   "file_extension": ".py",
   "mimetype": "text/x-python",
   "name": "python",
   "nbconvert_exporter": "python",
   "pygments_lexer": "ipython3",
   "version": "3.7.1"
  }
 },
 "nbformat": 4,
 "nbformat_minor": 2
}
