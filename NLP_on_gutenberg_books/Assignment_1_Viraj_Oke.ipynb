{
 "cells": [
  {
   "cell_type": "markdown",
   "metadata": {},
   "source": [
    "# Assignment 1 - Viraj Oke, Student Id: 300251185"
   ]
  },
  {
   "cell_type": "code",
   "execution_count": 1,
   "metadata": {},
   "outputs": [],
   "source": [
    "import pandas as pd\n",
    "import numpy as np\n",
    "import nltk \n",
    "from nltk.corpus import PlaintextCorpusReader"
   ]
  },
  {
   "cell_type": "code",
   "execution_count": 2,
   "metadata": {},
   "outputs": [],
   "source": [
    "import re\n",
    "from nltk.corpus import stopwords\n",
    "from nltk.tokenize import word_tokenize"
   ]
  },
  {
   "cell_type": "markdown",
   "metadata": {},
   "source": [
    "### Functions for data cleaning "
   ]
  },
  {
   "cell_type": "code",
   "execution_count": 3,
   "metadata": {},
   "outputs": [],
   "source": [
    "def removeurls(text):\n",
    "    regex= r'(https*:\\/\\/)(\\s)*(www\\.)*(\\s)*((\\w|\\s)+\\.)*([\\w\\-\\s]+\\/)*([\\w\\-]+)((\\?)?[\\w\\s]*=\\s*[\\w\\%&]*)*'\n",
    "    return re.sub(regex,\" \",text)"
   ]
  },
  {
   "cell_type": "code",
   "execution_count": 4,
   "metadata": {},
   "outputs": [],
   "source": [
    "def removespecialchar(text):\n",
    "    regex= r\"[^A-Za-z0-9]\"\n",
    "    return re.sub(regex,\" \",text)"
   ]
  },
  {
   "cell_type": "code",
   "execution_count": 5,
   "metadata": {},
   "outputs": [],
   "source": [
    "def removeblanks(text):\n",
    "    return re.sub(r'\\s\\s+',\" \",text)"
   ]
  },
  {
   "cell_type": "code",
   "execution_count": 6,
   "metadata": {},
   "outputs": [],
   "source": [
    "import random"
   ]
  },
  {
   "cell_type": "code",
   "execution_count": 138,
   "metadata": {},
   "outputs": [],
   "source": [
    "def samples(arg):\n",
    "    sample_trial=[]\n",
    "    labeled_sample= []\n",
    "    for i in range(0,200):\n",
    "        x = random.sample(arg,100)\n",
    "        sample_trial.append(x)\n",
    "    return sample_trial"
   ]
  },
  {
   "cell_type": "code",
   "execution_count": 139,
   "metadata": {},
   "outputs": [],
   "source": [
    "def datacleaning(arg):\n",
    "    clean_data1 = removeurls(arg)\n",
    "    clean_data2 = removespecialchar(clean_data1)\n",
    "    clean_data3 = removeblanks(clean_data2)\n",
    "    tokenized_data = word_tokenize(clean_data3)\n",
    "    return tokenized_data"
   ]
  },
  {
   "cell_type": "markdown",
   "metadata": {},
   "source": [
    "### Ebook- Aspects of nature"
   ]
  },
  {
   "cell_type": "code",
   "execution_count": 10,
   "metadata": {},
   "outputs": [],
   "source": [
    "book_data= open(\"Aspects_of_nature.txt\")\n",
    "data1= book_data.read().replace(\"\\n\",\" \")\n",
    "book_data.close()"
   ]
  },
  {
   "cell_type": "code",
   "execution_count": 28,
   "metadata": {},
   "outputs": [
    {
     "data": {
      "text/plain": [
       "' located before using this eBook.  Title: Aspects of Nature (Vol. 1 of 2)        in Different Lands and Different Climates; with Scientific        Elucidations  Author: Alexander von Humboldt  Translator: Elizabeth Sabine  Release Date: January 16, 2022 [eBook #67183]  Language: English  Produced by: Henry Flower and the Online Distributed Proofreading Team              at https://www.pgdp.net (This file was produced from images              generously made available by The Internet Archive)  **'"
      ]
     },
     "execution_count": 28,
     "metadata": {},
     "output_type": "execute_result"
    }
   ],
   "source": [
    "data1[500:1000]"
   ]
  },
  {
   "cell_type": "code",
   "execution_count": 140,
   "metadata": {},
   "outputs": [],
   "source": [
    "clean_text_1= datacleaning(data1)"
   ]
  },
  {
   "cell_type": "code",
   "execution_count": 30,
   "metadata": {
    "scrolled": true
   },
   "outputs": [
    {
     "data": {
      "text/plain": [
       "['whole',\n",
       " 'The',\n",
       " 'view',\n",
       " 'of',\n",
       " 'Nature',\n",
       " 'on',\n",
       " 'an',\n",
       " 'enlarged',\n",
       " 'scale',\n",
       " 'the']"
      ]
     },
     "execution_count": 30,
     "metadata": {},
     "output_type": "execute_result"
    }
   ],
   "source": [
    "clean_text_1[300:310]"
   ]
  },
  {
   "cell_type": "markdown",
   "metadata": {},
   "source": [
    "### Ebook- The Bird Boys"
   ]
  },
  {
   "cell_type": "code",
   "execution_count": 14,
   "metadata": {},
   "outputs": [],
   "source": [
    "book_data2= open(\"The_Bird_Boys.txt\")\n",
    "data2= book_data2.read().replace(\"\\n\",\" \")\n",
    "book_data2.close()"
   ]
  },
  {
   "cell_type": "code",
   "execution_count": 15,
   "metadata": {
    "scrolled": true
   },
   "outputs": [
    {
     "data": {
      "text/plain": [
       "'They Saw the Aeroplane Leave the Earth.]  --------------------------------------------------------------------  THE BIRD BOYS’ AEROPLANE WONDER  Or  Young Aviators On a Cattle Ranch  By  JOHN LUTHER LANGWORHTY  Chicago  M. A. DONOHUE & COMPANY  --------------------------------------------------------------------  Copyright 1914  M. A. Donohue & Company  Chicago  --------------------------------------------------------------------  CONTENTS    I       Under the Spreading Beech   II      “Glorious News!”   III     Looking For Trouble   IV      The Panic That Came to Pass   V       What They Found at Witherspoon   VI      At the Double X Ranch   VII     A Pretty Close Call   VIII    Broncho Buster Meets His Match   IX      Figuring It All Out   X       Learning the Ropes on the Ranch   XI    '"
      ]
     },
     "execution_count": 15,
     "metadata": {},
     "output_type": "execute_result"
    }
   ],
   "source": [
    "data2[1000:1800]"
   ]
  },
  {
   "cell_type": "code",
   "execution_count": 16,
   "metadata": {},
   "outputs": [],
   "source": [
    "clean_text_2= datacleaning(data2)"
   ]
  },
  {
   "cell_type": "code",
   "execution_count": 31,
   "metadata": {},
   "outputs": [
    {
     "data": {
      "text/plain": [
       "['What', 'Andy', 'Saw', 'From', 'Aloft', 'XXI', 'The', 'Terror', 'of', 'the']"
      ]
     },
     "execution_count": 31,
     "metadata": {},
     "output_type": "execute_result"
    }
   ],
   "source": [
    "clean_text_2[300:310]"
   ]
  },
  {
   "cell_type": "markdown",
   "metadata": {},
   "source": [
    "### The Truth About Lynching"
   ]
  },
  {
   "cell_type": "code",
   "execution_count": 18,
   "metadata": {},
   "outputs": [],
   "source": [
    "book_data3= open(\"The_Truth_About_Lynching.txt\")\n",
    "data3= book_data3.read().replace(\"\\n\",\" \")\n",
    "book_data2.close()"
   ]
  },
  {
   "cell_type": "code",
   "execution_count": 19,
   "metadata": {},
   "outputs": [
    {
     "data": {
      "text/plain": [
       "'           Internet Archive/American Libraries.)  *** START OF THE PROJECT GUTENBERG EBOOK THE TRUTH ABOUT LYNCHING AND THE NEGRO IN THE SOUTH ***                                  THE TRUTH ABOUT                           LYNCHING _and_ THE                           NEGRO IN THE SOUTH                    IN WHICH THE AUTHOR PLEADS THAT THE                  SOUTH BE MADE SAFE FOR THE WHITE RACE                                     BY                     WINFIELD H. COLLINS, A.M., PH.D.                                 AUTHOR OF            _The Domestic Slave Trade of the Southern States_              [Illustration: Neale Publishing Company colophon]                        THE NEALE PUBLISHING COMPANY                       440 FOURTH AVENUE, NEW YORK                                MCMXVIII     '"
      ]
     },
     "execution_count": 19,
     "metadata": {},
     "output_type": "execute_result"
    }
   ],
   "source": [
    "data3[1000:1800]"
   ]
  },
  {
   "cell_type": "code",
   "execution_count": 20,
   "metadata": {},
   "outputs": [],
   "source": [
    "clean_text_3= datacleaning(data3)"
   ]
  },
  {
   "cell_type": "code",
   "execution_count": 32,
   "metadata": {},
   "outputs": [
    {
     "data": {
      "text/plain": [
       "['End', 'of', 'Carpet', 'Bag', 'Rule', 'to', 'the', 'Present', 'Time', '48']"
      ]
     },
     "execution_count": 32,
     "metadata": {},
     "output_type": "execute_result"
    }
   ],
   "source": [
    "clean_text_3[300:310]"
   ]
  },
  {
   "cell_type": "markdown",
   "metadata": {},
   "source": [
    "### Random Sampling of 3 books\n",
    "200 samples of 100 random words for each book"
   ]
  },
  {
   "cell_type": "code",
   "execution_count": 141,
   "metadata": {},
   "outputs": [],
   "source": [
    "Aspects_of_nature = samples(clean_text_1)\n",
    "The_Bird_Boys = samples(clean_text_2)\n",
    "The_Truth_About_Lynching = samples(clean_text_3)"
   ]
  },
  {
   "cell_type": "code",
   "execution_count": 142,
   "metadata": {},
   "outputs": [
    {
     "name": "stdout",
     "output_type": "stream",
     "text": [
      "A single sample has 100 words\n",
      "200th sample containing 100 words:  \n",
      " ['longitude', 'of', 'Coquimbo', 'author', 'beasts', 'from', 'mean', 'severer', 'Rupunuri', 'p', 'Chimborazo', 'of', 'among', 'respecting', 'and', '1822', 'knead', 'to', 'the', 'most', 'from', 'distributione', 'currents', 'Caroni', '3448', 'in', 'the', 'or', 'cooling', 'the', 'above', 'often', 'Tuaricks', 'T', 'those', 'can', 'that', 'the', 'antelopes', 'by', 'palm', 'might', 'and', 'small', 'the', 'is', 'wounded', 'from', 'of', 'T', 'century', 'made', 'an', 'is', 'at', 'the', 'inches', 'Otaheiti', 'invalidity', 'Africa', 'At', 'pages', 'corn', 'S', 'limit', 'mean', 'at', 'His', 'or', 'of', 'in', 'very', 'feet', 'tauros', 'continent', 'one', 'long', 'light', 'were', 'as', 'tribes', 'with', 'bed', 'Quad', 'and', 'plastic', 'F', 'eastern', 'Schomburgk', 'those', 'first', 'the', 'and', 'and', 'eBooks', 'true', 'Japanese', 'side', 'for', 'a']\n"
     ]
    }
   ],
   "source": [
    "print(\"A single sample has\",len(Aspects_of_nature[1]),\"words\")\n",
    "print(\"200th sample containing 100 words: \",\"\\n\",Aspects_of_nature[199])"
   ]
  },
  {
   "cell_type": "markdown",
   "metadata": {},
   "source": [
    "### A dataframe for all the books"
   ]
  },
  {
   "cell_type": "code",
   "execution_count": 120,
   "metadata": {},
   "outputs": [],
   "source": [
    "import itertools\n",
    "nest= list(itertools.zip_longest(Aspects_of_nature,The_Bird_Boys,The_Truth_About_Lynching))"
   ]
  },
  {
   "cell_type": "code",
   "execution_count": 121,
   "metadata": {},
   "outputs": [],
   "source": [
    "df = pd.DataFrame(nest, columns = ['Aspects_of_nature','The_Bird_Boys','The_Truth_About_Lynching'])"
   ]
  },
  {
   "cell_type": "code",
   "execution_count": 122,
   "metadata": {},
   "outputs": [
    {
     "data": {
      "text/html": [
       "<div>\n",
       "<style scoped>\n",
       "    .dataframe tbody tr th:only-of-type {\n",
       "        vertical-align: middle;\n",
       "    }\n",
       "\n",
       "    .dataframe tbody tr th {\n",
       "        vertical-align: top;\n",
       "    }\n",
       "\n",
       "    .dataframe thead th {\n",
       "        text-align: right;\n",
       "    }\n",
       "</style>\n",
       "<table border=\"1\" class=\"dataframe\">\n",
       "  <thead>\n",
       "    <tr style=\"text-align: right;\">\n",
       "      <th></th>\n",
       "      <th>Aspects_of_nature</th>\n",
       "      <th>The_Bird_Boys</th>\n",
       "      <th>The_Truth_About_Lynching</th>\n",
       "    </tr>\n",
       "  </thead>\n",
       "  <tbody>\n",
       "    <tr>\n",
       "      <th>0</th>\n",
       "      <td>[below, Ehrenberg, mutual, planetary, Hanno, P...</td>\n",
       "      <td>[like, found, they, hat, and, being, CHAPTER, ...</td>\n",
       "      <td>[friction, wife, criminal, himself, to, betwee...</td>\n",
       "    </tr>\n",
       "    <tr>\n",
       "      <th>1</th>\n",
       "      <td>[is, thrown, the, in, measurements, 226, count...</td>\n",
       "      <td>[now, the, my, bird, ranchman, the, their, ve,...</td>\n",
       "      <td>[Negroes, to, of, population, these, a, notice...</td>\n",
       "    </tr>\n",
       "    <tr>\n",
       "      <th>2</th>\n",
       "      <td>[than, of, the, discovering, Elizabeth, to, cl...</td>\n",
       "      <td>[it, a, accompanied, any, pony, little, were, ...</td>\n",
       "      <td>[and, Terror, which, upon, owners, with, black...</td>\n",
       "    </tr>\n",
       "    <tr>\n",
       "      <th>3</th>\n",
       "      <td>[pronunciation, Southern, properly, brood, bee...</td>\n",
       "      <td>[went, struck, the, of, the, down, THE, that, ...</td>\n",
       "      <td>[31, York, peoples, West, 9, Foundation, no, s...</td>\n",
       "    </tr>\n",
       "    <tr>\n",
       "      <th>4</th>\n",
       "      <td>[the, seeing, exact, Para, being, and, 1810, G...</td>\n",
       "      <td>[will, after, them, four, it, thing, opens, fo...</td>\n",
       "      <td>[that, the, and, had, a, laws, connection, to,...</td>\n",
       "    </tr>\n",
       "    <tr>\n",
       "      <th>5</th>\n",
       "      <td>[the, the, p, The, Centurion, to, Bay, India, ...</td>\n",
       "      <td>[his, and, was, the, Andy, that, or, had, him,...</td>\n",
       "      <td>[the, either, far, certain, five, not, rape, t...</td>\n",
       "    </tr>\n",
       "    <tr>\n",
       "      <th>6</th>\n",
       "      <td>[took, Alps, to, puisse, further, lake, Steppe...</td>\n",
       "      <td>[delicate, the, that, water, do, Frank, perhap...</td>\n",
       "      <td>[1912, boon, of, To, meeting, became, and, who...</td>\n",
       "    </tr>\n",
       "    <tr>\n",
       "      <th>7</th>\n",
       "      <td>[themselves, of, viii, Humboldt, 3580, of, has...</td>\n",
       "      <td>[to, had, the, riding, with, and, truth, calle...</td>\n",
       "      <td>[of, 30, the, too, 28, a, Gutenberg, in, a, ma...</td>\n",
       "    </tr>\n",
       "    <tr>\n",
       "      <th>8</th>\n",
       "      <td>[which, sixteen, must, he, my, It, it, balls, ...</td>\n",
       "      <td>[too, each, announced, all, kept, sure, desper...</td>\n",
       "      <td>[burned, work, the, seemed, Please, except, th...</td>\n",
       "    </tr>\n",
       "    <tr>\n",
       "      <th>9</th>\n",
       "      <td>[marshy, lat, Regions, over, the, Miscellaneou...</td>\n",
       "      <td>[as, take, after, at, tell, out, to, aeroplane...</td>\n",
       "      <td>[to, understand, throughout, the, cities, of, ...</td>\n",
       "    </tr>\n",
       "    <tr>\n",
       "      <th>10</th>\n",
       "      <td>[feet, 5714, of, 20, of, 23, Deserts, exposed,...</td>\n",
       "      <td>[m, sort, about, head, in, won, him, whole, im...</td>\n",
       "      <td>[more, the, appears, against, misguided, citie...</td>\n",
       "    </tr>\n",
       "    <tr>\n",
       "      <th>11</th>\n",
       "      <td>[toises, conforming, through, gives, work, num...</td>\n",
       "      <td>[want, in, sentiments, We, re, best, over, onc...</td>\n",
       "      <td>[About, to, and, validity, mind, The, suburb, ...</td>\n",
       "    </tr>\n",
       "    <tr>\n",
       "      <th>12</th>\n",
       "      <td>[Andes, level, of, any, the, which, of, at, in...</td>\n",
       "      <td>[seen, one, And, eyed, snaky, who, had, flying...</td>\n",
       "      <td>[lynchings, been, about, been, inquired, 000, ...</td>\n",
       "    </tr>\n",
       "    <tr>\n",
       "      <th>13</th>\n",
       "      <td>[marked, of, plate, Morocco, and, question, su...</td>\n",
       "      <td>[getting, fairly, tm, face, drag, same, open, ...</td>\n",
       "      <td>[the, be, fair, even, own, end, Charles, farms...</td>\n",
       "    </tr>\n",
       "    <tr>\n",
       "      <th>14</th>\n",
       "      <td>[the, the, Tetl, In, than, against, great, f, ...</td>\n",
       "      <td>[the, across, queer, Boys, which, come, we, a,...</td>\n",
       "      <td>[what, 506, often, However, 18, Another, pleas...</td>\n",
       "    </tr>\n",
       "    <tr>\n",
       "      <th>15</th>\n",
       "      <td>[lib, and, the, shore, of, p, of, near, in, th...</td>\n",
       "      <td>[or, served, worthless, slowly, of, Donations,...</td>\n",
       "      <td>[fact, scheme, be, not, Negro, a, abreast, or,...</td>\n",
       "    </tr>\n",
       "    <tr>\n",
       "      <th>16</th>\n",
       "      <td>[miles, appeared, with, I, Bos, continually, 1...</td>\n",
       "      <td>[cause, reflectively, almost, s, meant, be, bo...</td>\n",
       "      <td>[1800, Morgan, idea, and, interested, the, of,...</td>\n",
       "    </tr>\n",
       "    <tr>\n",
       "      <th>17</th>\n",
       "      <td>[equator, upward, east, Krapf, 207, accidental...</td>\n",
       "      <td>[crossing, the, Wonder, about, happen, Alkali,...</td>\n",
       "      <td>[we, 1, accord, the, this, in, than, they, suc...</td>\n",
       "    </tr>\n",
       "    <tr>\n",
       "      <th>18</th>\n",
       "      <td>[in, great, Expedition, passes, kindled, coast...</td>\n",
       "      <td>[think, were, there, Jethro, answered, bear, t...</td>\n",
       "      <td>[resignation, and, place, the, cases, people, ...</td>\n",
       "    </tr>\n",
       "    <tr>\n",
       "      <th>19</th>\n",
       "      <td>[The, 3rd, codes, an, where, into, the, an, Th...</td>\n",
       "      <td>[s, you, but, and, started, gutenberg, dry, re...</td>\n",
       "      <td>[was, this, and, A, states, 529, in, old, for,...</td>\n",
       "    </tr>\n",
       "    <tr>\n",
       "      <th>20</th>\n",
       "      <td>[of, at, form, Thibet, outbreak, 34, 340, atte...</td>\n",
       "      <td>[country, The, showing, who, reached, time, di...</td>\n",
       "      <td>[quotation, crime, State, public, increased, N...</td>\n",
       "    </tr>\n",
       "    <tr>\n",
       "      <th>21</th>\n",
       "      <td>[roe, of, deeply, of, as, command, along, is, ...</td>\n",
       "      <td>[the, the, the, need, the, voyage, If, child, ...</td>\n",
       "      <td>[17, be, to, have, here, those, ago, qualified...</td>\n",
       "    </tr>\n",
       "    <tr>\n",
       "      <th>22</th>\n",
       "      <td>[of, p, in, kinds, was, reached, same, the, th...</td>\n",
       "      <td>[themselves, and, to, far, Well, state, nudge,...</td>\n",
       "      <td>[or, 645, failed, Negroes, the, would, Table, ...</td>\n",
       "    </tr>\n",
       "    <tr>\n",
       "      <th>23</th>\n",
       "      <td>[or, the, coast, juice, qui, 20, a, feet, of, ...</td>\n",
       "      <td>[so, it, wouldn, any, that, and, had, good, th...</td>\n",
       "      <td>[laborer, metaphysical, the, is, a, 38, prepos...</td>\n",
       "    </tr>\n",
       "    <tr>\n",
       "      <th>24</th>\n",
       "      <td>[my, deficiency, into, the, brothers, speak, e...</td>\n",
       "      <td>[immediately, Expecting, used, promise, same, ...</td>\n",
       "      <td>[jail, divided, earth, is, city, comparative, ...</td>\n",
       "    </tr>\n",
       "    <tr>\n",
       "      <th>25</th>\n",
       "      <td>[they, the, which, between, and, as, in, Sacre...</td>\n",
       "      <td>[Gutenberg, of, the, flying, open, this, like,...</td>\n",
       "      <td>[the, 17, civilization, annually, censure, art...</td>\n",
       "    </tr>\n",
       "    <tr>\n",
       "      <th>26</th>\n",
       "      <td>[the, the, been, thought, In, appreciation, pa...</td>\n",
       "      <td>[little, crouched, being, course, pent, man, q...</td>\n",
       "      <td>[much, about, North, a, about, of, the, vision...</td>\n",
       "    </tr>\n",
       "    <tr>\n",
       "      <th>27</th>\n",
       "      <td>[needs, Fahr, engravings, Finnish, of, The, a,...</td>\n",
       "      <td>[in, pony, trembling, as, connection, The, bor...</td>\n",
       "      <td>[require, so, attempted, Baltimore, interestin...</td>\n",
       "    </tr>\n",
       "    <tr>\n",
       "      <th>28</th>\n",
       "      <td>[to, almost, to, Davis, I, or, trunk, differen...</td>\n",
       "      <td>[that, delightful, bunch, a, house, accident, ...</td>\n",
       "      <td>[having, the, is, 60, barber, yet, decrease, o...</td>\n",
       "    </tr>\n",
       "    <tr>\n",
       "      <th>29</th>\n",
       "      <td>[of, is, the, the, To, We, 13080, the, an, hav...</td>\n",
       "      <td>[may, somewhere, are, to, these, number, that,...</td>\n",
       "      <td>[to, REFUND, as, great, less, have, 31, in, wo...</td>\n",
       "    </tr>\n",
       "    <tr>\n",
       "      <th>...</th>\n",
       "      <td>...</td>\n",
       "      <td>...</td>\n",
       "      <td>...</td>\n",
       "    </tr>\n",
       "    <tr>\n",
       "      <th>170</th>\n",
       "      <td>[Documents, from, narrow, the, p, f, the, the,...</td>\n",
       "      <td>[of, I, boy, and, me, and, safe, those, a, fel...</td>\n",
       "      <td>[2, public, eight, the, when, if, these, indir...</td>\n",
       "    </tr>\n",
       "    <tr>\n",
       "      <th>171</th>\n",
       "      <td>[indispensable, Aksakal, we, this, first, the,...</td>\n",
       "      <td>[the, off, DISCLAIMER, more, Frank, many, as, ...</td>\n",
       "      <td>[other, a, It, the, also, connive, Indeed, an,...</td>\n",
       "    </tr>\n",
       "    <tr>\n",
       "      <th>172</th>\n",
       "      <td>[level, to, mean, or, of, this, comme, oxen, c...</td>\n",
       "      <td>[floor, the, home, in, is, to, should, Woo, Fr...</td>\n",
       "      <td>[criminal, the, brother, in, criminal, a, one,...</td>\n",
       "    </tr>\n",
       "    <tr>\n",
       "      <th>173</th>\n",
       "      <td>[the, on, of, Parime, little, one, not, easter...</td>\n",
       "      <td>[so, themselves, the, ranchman, to, and, tab, ...</td>\n",
       "      <td>[that, land, but, it, mental, indicates, maint...</td>\n",
       "    </tr>\n",
       "    <tr>\n",
       "      <th>174</th>\n",
       "      <td>[Ghauts, to, Uivitari, Atures, barometric, the...</td>\n",
       "      <td>[puncher, as, and, tax, his, balance, rushing,...</td>\n",
       "      <td>[may, this, for, grades, to, his, Negroes, Gut...</td>\n",
       "    </tr>\n",
       "    <tr>\n",
       "      <th>175</th>\n",
       "      <td>[151, clad, Abert, a, to, banks, the, clearest...</td>\n",
       "      <td>[built, out, a, in, ready, about, that, bachel...</td>\n",
       "      <td>[both, be, business, lives, secure, 346, donat...</td>\n",
       "    </tr>\n",
       "    <tr>\n",
       "      <th>176</th>\n",
       "      <td>[the, natural, eaten, eastern, missions, Peruv...</td>\n",
       "      <td>[display, mount, crisis, bracing, biplane, the...</td>\n",
       "      <td>[this, illustrations, restrictions, of, with, ...</td>\n",
       "    </tr>\n",
       "    <tr>\n",
       "      <th>177</th>\n",
       "      <td>[human, and, man, which, touched, of, uncertai...</td>\n",
       "      <td>[forever, of, in, t, the, him, asked, river, a...</td>\n",
       "      <td>[to, mental, This, years, putting, was, allege...</td>\n",
       "    </tr>\n",
       "    <tr>\n",
       "      <th>178</th>\n",
       "      <td>[into, which, a, copy, thus, Huanacos, the, ge...</td>\n",
       "      <td>[this, had, when, amount, upon, expanse, tell,...</td>\n",
       "      <td>[is, exterminating, as, for, In, ABOUT, return...</td>\n",
       "    </tr>\n",
       "    <tr>\n",
       "      <th>179</th>\n",
       "      <td>[coming, 11, the, not, direction, runs, with, ...</td>\n",
       "      <td>[just, in, as, same, vengeance, of, Bird, resc...</td>\n",
       "      <td>[committed, we, United, is, circumstances, Neg...</td>\n",
       "    </tr>\n",
       "    <tr>\n",
       "      <th>180</th>\n",
       "      <td>[plant, 35, asphaltic, third, which, Schomburg...</td>\n",
       "      <td>[pen, several, get, any, whenever, company, th...</td>\n",
       "      <td>[British, population, rape, factory, had, foll...</td>\n",
       "    </tr>\n",
       "    <tr>\n",
       "      <th>181</th>\n",
       "      <td>[the, the, great, on, we, the, jaguar, more, w...</td>\n",
       "      <td>[They, CHAPTER, the, confidence, able, the, ac...</td>\n",
       "      <td>[1908, 403, sanitary, gallows, that, 131, MEET...</td>\n",
       "    </tr>\n",
       "    <tr>\n",
       "      <th>182</th>\n",
       "      <td>[Elucidations, preserved, the, the, the, Thibe...</td>\n",
       "      <td>[much, keep, shipped, of, on, nervous, CHAPTER...</td>\n",
       "      <td>[was, indeed, be, men, Carolina, domains, are,...</td>\n",
       "    </tr>\n",
       "    <tr>\n",
       "      <th>183</th>\n",
       "      <td>[appears, p, and, 742, we, Islands, had, the, ...</td>\n",
       "      <td>[know, situation, a, looked, sojering, and, ha...</td>\n",
       "      <td>[at, 000, None, wasted, much, If, described, 2...</td>\n",
       "    </tr>\n",
       "    <tr>\n",
       "      <th>184</th>\n",
       "      <td>[the, 5115, p, The, occasionally, dwell, great...</td>\n",
       "      <td>[look, Try, Andy, to, lot, of, film, to, in, f...</td>\n",
       "      <td>[69, those, colored, and, same, and, p, and, c...</td>\n",
       "    </tr>\n",
       "    <tr>\n",
       "      <th>185</th>\n",
       "      <td>[of, Brazilian, Nile, of, in, animals, the, va...</td>\n",
       "      <td>[window, were, first, Bird, And, free, drag, s...</td>\n",
       "      <td>[the, saintlike, or, Literary, ideas, little, ...</td>\n",
       "    </tr>\n",
       "    <tr>\n",
       "      <th>186</th>\n",
       "      <td>[unlike, of, De, great, the, personal, whole, ...</td>\n",
       "      <td>[off, could, game, Larry, to, birthday, burn, ...</td>\n",
       "      <td>[in, terror, all, estimated, it, and, Negro, e...</td>\n",
       "    </tr>\n",
       "    <tr>\n",
       "      <th>187</th>\n",
       "      <td>[that, is, been, particles, west, ground, by, ...</td>\n",
       "      <td>[at, There, of, the, come, us, raise, Plain, T...</td>\n",
       "      <td>[000, Orleans, optimistic, than, to, the, seve...</td>\n",
       "    </tr>\n",
       "    <tr>\n",
       "      <th>188</th>\n",
       "      <td>[it, as, pointed, and, part, forests, it, in, ...</td>\n",
       "      <td>[been, re, be, of, Oh, himself, they, the, rep...</td>\n",
       "      <td>[hang, appropriated, walks, of, LIABLE, distri...</td>\n",
       "    </tr>\n",
       "    <tr>\n",
       "      <th>189</th>\n",
       "      <td>[Feet, even, to, of, a, promoted, sea, deficie...</td>\n",
       "      <td>[beautiful, ridge, they, helping, creation, bo...</td>\n",
       "      <td>[property, that, now, cases, a, Year, Negroes,...</td>\n",
       "    </tr>\n",
       "    <tr>\n",
       "      <th>190</th>\n",
       "      <td>[longitude, insular, have, who, approximately,...</td>\n",
       "      <td>[royalties, interesting, did, hates, in, hard,...</td>\n",
       "      <td>[Griffins, yet, man, in, about, height, it, be...</td>\n",
       "    </tr>\n",
       "    <tr>\n",
       "      <th>191</th>\n",
       "      <td>[The, the, from, copying, a, long, not, freque...</td>\n",
       "      <td>[most, too, m, if, have, 1, that, opening, ski...</td>\n",
       "      <td>[almost, would, and, rate, races, 2, for, Inde...</td>\n",
       "    </tr>\n",
       "    <tr>\n",
       "      <th>192</th>\n",
       "      <td>[of, carefully, part, the, of, translation, ab...</td>\n",
       "      <td>[of, that, they, and, sound, as, as, important...</td>\n",
       "      <td>[notice, this, Some, accounted, and, a, a, not...</td>\n",
       "    </tr>\n",
       "    <tr>\n",
       "      <th>193</th>\n",
       "      <td>[elevation, hand, permission, connected, the, ...</td>\n",
       "      <td>[not, it, rest, power, been, for, were, were, ...</td>\n",
       "      <td>[Replacement, license, the, of, appearing, any...</td>\n",
       "    </tr>\n",
       "    <tr>\n",
       "      <th>194</th>\n",
       "      <td>[over, sea, the, 22, a, that, and, rude, 6261,...</td>\n",
       "      <td>[that, easy, 1, cook, IN, far, Never, they, de...</td>\n",
       "      <td>[in, Negroes, expected, 118, 690, assumption, ...</td>\n",
       "    </tr>\n",
       "    <tr>\n",
       "      <th>195</th>\n",
       "      <td>[divided, Rendus, yet, to, the, and, be, have,...</td>\n",
       "      <td>[match, fact, a, window, in, from, fatigue, He...</td>\n",
       "      <td>[to, or, be, Southern, the, they, third, by, o...</td>\n",
       "    </tr>\n",
       "    <tr>\n",
       "      <th>196</th>\n",
       "      <td>[Ducatel, Peaks, hazardous, nations, von, be, ...</td>\n",
       "      <td>[means, he, it, were, may, our, be, my, a, bei...</td>\n",
       "      <td>[very, times, medium, shows, cases, South, Mar...</td>\n",
       "    </tr>\n",
       "    <tr>\n",
       "      <th>197</th>\n",
       "      <td>[Atlantic, 49, which, paperwork, the, beautifu...</td>\n",
       "      <td>[That, a, get, when, that, in, s, run, his, ha...</td>\n",
       "      <td>[of, was, Who, and, acre, lynched, Judge, grip...</td>\n",
       "    </tr>\n",
       "    <tr>\n",
       "      <th>198</th>\n",
       "      <td>[only, strength, and, warm, truth, s, Canada, ...</td>\n",
       "      <td>[ranch, was, me, formation, the, to, these, em...</td>\n",
       "      <td>[invite, them, make, person, 1914, fearful, pu...</td>\n",
       "    </tr>\n",
       "    <tr>\n",
       "      <th>199</th>\n",
       "      <td>[combinations, detached, the, the, moon, the, ...</td>\n",
       "      <td>[Gutenberg, Frank, of, know, and, to, and, tha...</td>\n",
       "      <td>[be, truth, their, North, soon, force, often, ...</td>\n",
       "    </tr>\n",
       "  </tbody>\n",
       "</table>\n",
       "<p>200 rows × 3 columns</p>\n",
       "</div>"
      ],
      "text/plain": [
       "                                     Aspects_of_nature  \\\n",
       "0    [below, Ehrenberg, mutual, planetary, Hanno, P...   \n",
       "1    [is, thrown, the, in, measurements, 226, count...   \n",
       "2    [than, of, the, discovering, Elizabeth, to, cl...   \n",
       "3    [pronunciation, Southern, properly, brood, bee...   \n",
       "4    [the, seeing, exact, Para, being, and, 1810, G...   \n",
       "5    [the, the, p, The, Centurion, to, Bay, India, ...   \n",
       "6    [took, Alps, to, puisse, further, lake, Steppe...   \n",
       "7    [themselves, of, viii, Humboldt, 3580, of, has...   \n",
       "8    [which, sixteen, must, he, my, It, it, balls, ...   \n",
       "9    [marshy, lat, Regions, over, the, Miscellaneou...   \n",
       "10   [feet, 5714, of, 20, of, 23, Deserts, exposed,...   \n",
       "11   [toises, conforming, through, gives, work, num...   \n",
       "12   [Andes, level, of, any, the, which, of, at, in...   \n",
       "13   [marked, of, plate, Morocco, and, question, su...   \n",
       "14   [the, the, Tetl, In, than, against, great, f, ...   \n",
       "15   [lib, and, the, shore, of, p, of, near, in, th...   \n",
       "16   [miles, appeared, with, I, Bos, continually, 1...   \n",
       "17   [equator, upward, east, Krapf, 207, accidental...   \n",
       "18   [in, great, Expedition, passes, kindled, coast...   \n",
       "19   [The, 3rd, codes, an, where, into, the, an, Th...   \n",
       "20   [of, at, form, Thibet, outbreak, 34, 340, atte...   \n",
       "21   [roe, of, deeply, of, as, command, along, is, ...   \n",
       "22   [of, p, in, kinds, was, reached, same, the, th...   \n",
       "23   [or, the, coast, juice, qui, 20, a, feet, of, ...   \n",
       "24   [my, deficiency, into, the, brothers, speak, e...   \n",
       "25   [they, the, which, between, and, as, in, Sacre...   \n",
       "26   [the, the, been, thought, In, appreciation, pa...   \n",
       "27   [needs, Fahr, engravings, Finnish, of, The, a,...   \n",
       "28   [to, almost, to, Davis, I, or, trunk, differen...   \n",
       "29   [of, is, the, the, To, We, 13080, the, an, hav...   \n",
       "..                                                 ...   \n",
       "170  [Documents, from, narrow, the, p, f, the, the,...   \n",
       "171  [indispensable, Aksakal, we, this, first, the,...   \n",
       "172  [level, to, mean, or, of, this, comme, oxen, c...   \n",
       "173  [the, on, of, Parime, little, one, not, easter...   \n",
       "174  [Ghauts, to, Uivitari, Atures, barometric, the...   \n",
       "175  [151, clad, Abert, a, to, banks, the, clearest...   \n",
       "176  [the, natural, eaten, eastern, missions, Peruv...   \n",
       "177  [human, and, man, which, touched, of, uncertai...   \n",
       "178  [into, which, a, copy, thus, Huanacos, the, ge...   \n",
       "179  [coming, 11, the, not, direction, runs, with, ...   \n",
       "180  [plant, 35, asphaltic, third, which, Schomburg...   \n",
       "181  [the, the, great, on, we, the, jaguar, more, w...   \n",
       "182  [Elucidations, preserved, the, the, the, Thibe...   \n",
       "183  [appears, p, and, 742, we, Islands, had, the, ...   \n",
       "184  [the, 5115, p, The, occasionally, dwell, great...   \n",
       "185  [of, Brazilian, Nile, of, in, animals, the, va...   \n",
       "186  [unlike, of, De, great, the, personal, whole, ...   \n",
       "187  [that, is, been, particles, west, ground, by, ...   \n",
       "188  [it, as, pointed, and, part, forests, it, in, ...   \n",
       "189  [Feet, even, to, of, a, promoted, sea, deficie...   \n",
       "190  [longitude, insular, have, who, approximately,...   \n",
       "191  [The, the, from, copying, a, long, not, freque...   \n",
       "192  [of, carefully, part, the, of, translation, ab...   \n",
       "193  [elevation, hand, permission, connected, the, ...   \n",
       "194  [over, sea, the, 22, a, that, and, rude, 6261,...   \n",
       "195  [divided, Rendus, yet, to, the, and, be, have,...   \n",
       "196  [Ducatel, Peaks, hazardous, nations, von, be, ...   \n",
       "197  [Atlantic, 49, which, paperwork, the, beautifu...   \n",
       "198  [only, strength, and, warm, truth, s, Canada, ...   \n",
       "199  [combinations, detached, the, the, moon, the, ...   \n",
       "\n",
       "                                         The_Bird_Boys  \\\n",
       "0    [like, found, they, hat, and, being, CHAPTER, ...   \n",
       "1    [now, the, my, bird, ranchman, the, their, ve,...   \n",
       "2    [it, a, accompanied, any, pony, little, were, ...   \n",
       "3    [went, struck, the, of, the, down, THE, that, ...   \n",
       "4    [will, after, them, four, it, thing, opens, fo...   \n",
       "5    [his, and, was, the, Andy, that, or, had, him,...   \n",
       "6    [delicate, the, that, water, do, Frank, perhap...   \n",
       "7    [to, had, the, riding, with, and, truth, calle...   \n",
       "8    [too, each, announced, all, kept, sure, desper...   \n",
       "9    [as, take, after, at, tell, out, to, aeroplane...   \n",
       "10   [m, sort, about, head, in, won, him, whole, im...   \n",
       "11   [want, in, sentiments, We, re, best, over, onc...   \n",
       "12   [seen, one, And, eyed, snaky, who, had, flying...   \n",
       "13   [getting, fairly, tm, face, drag, same, open, ...   \n",
       "14   [the, across, queer, Boys, which, come, we, a,...   \n",
       "15   [or, served, worthless, slowly, of, Donations,...   \n",
       "16   [cause, reflectively, almost, s, meant, be, bo...   \n",
       "17   [crossing, the, Wonder, about, happen, Alkali,...   \n",
       "18   [think, were, there, Jethro, answered, bear, t...   \n",
       "19   [s, you, but, and, started, gutenberg, dry, re...   \n",
       "20   [country, The, showing, who, reached, time, di...   \n",
       "21   [the, the, the, need, the, voyage, If, child, ...   \n",
       "22   [themselves, and, to, far, Well, state, nudge,...   \n",
       "23   [so, it, wouldn, any, that, and, had, good, th...   \n",
       "24   [immediately, Expecting, used, promise, same, ...   \n",
       "25   [Gutenberg, of, the, flying, open, this, like,...   \n",
       "26   [little, crouched, being, course, pent, man, q...   \n",
       "27   [in, pony, trembling, as, connection, The, bor...   \n",
       "28   [that, delightful, bunch, a, house, accident, ...   \n",
       "29   [may, somewhere, are, to, these, number, that,...   \n",
       "..                                                 ...   \n",
       "170  [of, I, boy, and, me, and, safe, those, a, fel...   \n",
       "171  [the, off, DISCLAIMER, more, Frank, many, as, ...   \n",
       "172  [floor, the, home, in, is, to, should, Woo, Fr...   \n",
       "173  [so, themselves, the, ranchman, to, and, tab, ...   \n",
       "174  [puncher, as, and, tax, his, balance, rushing,...   \n",
       "175  [built, out, a, in, ready, about, that, bachel...   \n",
       "176  [display, mount, crisis, bracing, biplane, the...   \n",
       "177  [forever, of, in, t, the, him, asked, river, a...   \n",
       "178  [this, had, when, amount, upon, expanse, tell,...   \n",
       "179  [just, in, as, same, vengeance, of, Bird, resc...   \n",
       "180  [pen, several, get, any, whenever, company, th...   \n",
       "181  [They, CHAPTER, the, confidence, able, the, ac...   \n",
       "182  [much, keep, shipped, of, on, nervous, CHAPTER...   \n",
       "183  [know, situation, a, looked, sojering, and, ha...   \n",
       "184  [look, Try, Andy, to, lot, of, film, to, in, f...   \n",
       "185  [window, were, first, Bird, And, free, drag, s...   \n",
       "186  [off, could, game, Larry, to, birthday, burn, ...   \n",
       "187  [at, There, of, the, come, us, raise, Plain, T...   \n",
       "188  [been, re, be, of, Oh, himself, they, the, rep...   \n",
       "189  [beautiful, ridge, they, helping, creation, bo...   \n",
       "190  [royalties, interesting, did, hates, in, hard,...   \n",
       "191  [most, too, m, if, have, 1, that, opening, ski...   \n",
       "192  [of, that, they, and, sound, as, as, important...   \n",
       "193  [not, it, rest, power, been, for, were, were, ...   \n",
       "194  [that, easy, 1, cook, IN, far, Never, they, de...   \n",
       "195  [match, fact, a, window, in, from, fatigue, He...   \n",
       "196  [means, he, it, were, may, our, be, my, a, bei...   \n",
       "197  [That, a, get, when, that, in, s, run, his, ha...   \n",
       "198  [ranch, was, me, formation, the, to, these, em...   \n",
       "199  [Gutenberg, Frank, of, know, and, to, and, tha...   \n",
       "\n",
       "                              The_Truth_About_Lynching  \n",
       "0    [friction, wife, criminal, himself, to, betwee...  \n",
       "1    [Negroes, to, of, population, these, a, notice...  \n",
       "2    [and, Terror, which, upon, owners, with, black...  \n",
       "3    [31, York, peoples, West, 9, Foundation, no, s...  \n",
       "4    [that, the, and, had, a, laws, connection, to,...  \n",
       "5    [the, either, far, certain, five, not, rape, t...  \n",
       "6    [1912, boon, of, To, meeting, became, and, who...  \n",
       "7    [of, 30, the, too, 28, a, Gutenberg, in, a, ma...  \n",
       "8    [burned, work, the, seemed, Please, except, th...  \n",
       "9    [to, understand, throughout, the, cities, of, ...  \n",
       "10   [more, the, appears, against, misguided, citie...  \n",
       "11   [About, to, and, validity, mind, The, suburb, ...  \n",
       "12   [lynchings, been, about, been, inquired, 000, ...  \n",
       "13   [the, be, fair, even, own, end, Charles, farms...  \n",
       "14   [what, 506, often, However, 18, Another, pleas...  \n",
       "15   [fact, scheme, be, not, Negro, a, abreast, or,...  \n",
       "16   [1800, Morgan, idea, and, interested, the, of,...  \n",
       "17   [we, 1, accord, the, this, in, than, they, suc...  \n",
       "18   [resignation, and, place, the, cases, people, ...  \n",
       "19   [was, this, and, A, states, 529, in, old, for,...  \n",
       "20   [quotation, crime, State, public, increased, N...  \n",
       "21   [17, be, to, have, here, those, ago, qualified...  \n",
       "22   [or, 645, failed, Negroes, the, would, Table, ...  \n",
       "23   [laborer, metaphysical, the, is, a, 38, prepos...  \n",
       "24   [jail, divided, earth, is, city, comparative, ...  \n",
       "25   [the, 17, civilization, annually, censure, art...  \n",
       "26   [much, about, North, a, about, of, the, vision...  \n",
       "27   [require, so, attempted, Baltimore, interestin...  \n",
       "28   [having, the, is, 60, barber, yet, decrease, o...  \n",
       "29   [to, REFUND, as, great, less, have, 31, in, wo...  \n",
       "..                                                 ...  \n",
       "170  [2, public, eight, the, when, if, these, indir...  \n",
       "171  [other, a, It, the, also, connive, Indeed, an,...  \n",
       "172  [criminal, the, brother, in, criminal, a, one,...  \n",
       "173  [that, land, but, it, mental, indicates, maint...  \n",
       "174  [may, this, for, grades, to, his, Negroes, Gut...  \n",
       "175  [both, be, business, lives, secure, 346, donat...  \n",
       "176  [this, illustrations, restrictions, of, with, ...  \n",
       "177  [to, mental, This, years, putting, was, allege...  \n",
       "178  [is, exterminating, as, for, In, ABOUT, return...  \n",
       "179  [committed, we, United, is, circumstances, Neg...  \n",
       "180  [British, population, rape, factory, had, foll...  \n",
       "181  [1908, 403, sanitary, gallows, that, 131, MEET...  \n",
       "182  [was, indeed, be, men, Carolina, domains, are,...  \n",
       "183  [at, 000, None, wasted, much, If, described, 2...  \n",
       "184  [69, those, colored, and, same, and, p, and, c...  \n",
       "185  [the, saintlike, or, Literary, ideas, little, ...  \n",
       "186  [in, terror, all, estimated, it, and, Negro, e...  \n",
       "187  [000, Orleans, optimistic, than, to, the, seve...  \n",
       "188  [hang, appropriated, walks, of, LIABLE, distri...  \n",
       "189  [property, that, now, cases, a, Year, Negroes,...  \n",
       "190  [Griffins, yet, man, in, about, height, it, be...  \n",
       "191  [almost, would, and, rate, races, 2, for, Inde...  \n",
       "192  [notice, this, Some, accounted, and, a, a, not...  \n",
       "193  [Replacement, license, the, of, appearing, any...  \n",
       "194  [in, Negroes, expected, 118, 690, assumption, ...  \n",
       "195  [to, or, be, Southern, the, they, third, by, o...  \n",
       "196  [very, times, medium, shows, cases, South, Mar...  \n",
       "197  [of, was, Who, and, acre, lynched, Judge, grip...  \n",
       "198  [invite, them, make, person, 1914, fearful, pu...  \n",
       "199  [be, truth, their, North, soon, force, often, ...  \n",
       "\n",
       "[200 rows x 3 columns]"
      ]
     },
     "execution_count": 122,
     "metadata": {},
     "output_type": "execute_result"
    }
   ],
   "source": [
    "df"
   ]
  },
  {
   "cell_type": "code",
   "execution_count": null,
   "metadata": {},
   "outputs": [],
   "source": []
  },
  {
   "cell_type": "code",
   "execution_count": null,
   "metadata": {},
   "outputs": [],
   "source": []
  }
 ],
 "metadata": {
  "kernelspec": {
   "display_name": "Python 3",
   "language": "python",
   "name": "python3"
  },
  "language_info": {
   "codemirror_mode": {
    "name": "ipython",
    "version": 3
   },
   "file_extension": ".py",
   "mimetype": "text/x-python",
   "name": "python",
   "nbconvert_exporter": "python",
   "pygments_lexer": "ipython3",
   "version": "3.7.1"
  }
 },
 "nbformat": 4,
 "nbformat_minor": 2
}
